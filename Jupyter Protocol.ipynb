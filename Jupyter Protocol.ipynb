{
 "cells": [
  {
   "cell_type": "code",
   "execution_count": 7,
   "metadata": {},
   "outputs": [
    {
     "data": {
      "text/html": [
       "<script async src=\"//platform.twitter.com/widgets.js\" charset=\"utf-8\"></script>"
      ],
      "text/plain": [
       "<IPython.core.display.HTML object>"
      ]
     },
     "execution_count": 7,
     "metadata": {},
     "output_type": "execute_result"
    }
   ],
   "source": [
    "# This cell won't appear in the presentation\n",
    "import IPython.display as d\n",
    "d.HTML(\"\"\"<script async src=\"//platform.twitter.com/widgets.js\" charset=\"utf-8\"></script>\"\"\")"
   ]
  },
  {
   "cell_type": "markdown",
   "metadata": {},
   "source": [
    "<br><br><br><br>"
   ]
  },
  {
   "cell_type": "markdown",
   "metadata": {},
   "source": [
    "# <center>Jupyter: Kernels, Protocols,<br> and the IPython reference implementation<br><br>  </center>\n",
    "\n",
    "<table style=\"border:100px solid white;\">\n",
    "<tr>\n",
    "<td>\n",
    "Paul Ivanov\n",
    "</td>\n",
    "<td width=\"100px\"></td>\n",
    "<td>\n",
    "Matthias Bussonier\n",
    "</td>\n",
    "</tr>\n",
    "<tr>\n",
    "\n",
    "<td>\n",
    "Bloomberg LP\n",
    "</td>\n",
    "<td></td>\n",
    "<td>UC Berkeley</td>\n",
    "</tr>"
   ]
  },
  {
   "cell_type": "markdown",
   "metadata": {},
   "source": [
    "One of the foundations of Jupyter is a protocol that explicitly defines all the actions and results that comprise the workflow of interactive computing across a wide range of programming languages. This abstracts and decouples the process of code execution (performed by a kernel) from code input and results rendering. It allowed the many frontends to be developed independently but also permitted the quick addition of new kernels and languages. IPython, developed by the Jupyter team, is the canonical implementation of this protocol, providing a rich interactive experience in Python.\n",
    "\n",
    "Matthias Bussonnier and Paul Ivanov walk you through the current Jupyter architecture and protocol and explain how kernels work (decoupled from but in communication with the environment for input and output, such as a notebook document). Matthias and Paul also offer an overview of a number of kernels developed by the community and show you how you can get started writing a new kernel."
   ]
  },
  {
   "cell_type": "markdown",
   "metadata": {},
   "source": [
    "&nbsp;"
   ]
  },
  {
   "cell_type": "markdown",
   "metadata": {},
   "source": [
    "<br><br><br><br>"
   ]
  },
  {
   "cell_type": "markdown",
   "metadata": {},
   "source": [
    "<br><br><br><br>"
   ]
  },
  {
   "cell_type": "markdown",
   "metadata": {},
   "source": [
    "<br><br><br><br>"
   ]
  },
  {
   "cell_type": "markdown",
   "metadata": {},
   "source": [
    "# Some history\n",
    "\n",
    "\n",
    "- Ada Lovelace - first programmer (mid 19th century)\n",
    "- Grace Hopper - first compiler (1954)\n",
    "- John McCarthy - first interpreted language - LISP (1958)\n",
    "- Alan Kay, Dan Ingalls, Adele Goldberg - SmallTalk (1972)\n",
    "- Guido van Rossum - Python (1991)\n",
    "  \n",
    "- Fernando Pérez - IPython (2001)\n",
    "  - \"An afternoon hack\" - thesis procrastination project..."
   ]
  },
  {
   "cell_type": "markdown",
   "metadata": {},
   "source": [
    "<img src=\"/files/images/Ada_Lovelace_portrait.jpg\" width=200px>"
   ]
  },
  {
   "cell_type": "markdown",
   "metadata": {},
   "source": [
    "<br><br><br><br>"
   ]
  },
  {
   "cell_type": "markdown",
   "metadata": {},
   "source": [
    "# Read - Eval - Print Loop  (REPL)"
   ]
  },
  {
   "cell_type": "markdown",
   "metadata": {},
   "source": [
    "Historically, IPython was the Python REPL with a few extra bells and whistles..."
   ]
  },
  {
   "cell_type": "code",
   "execution_count": 1,
   "metadata": {},
   "outputs": [
    {
     "data": {
      "text/plain": [
       "4"
      ]
     },
     "execution_count": 1,
     "metadata": {},
     "output_type": "execute_result"
    }
   ],
   "source": [
    "2+2"
   ]
  },
  {
   "cell_type": "markdown",
   "metadata": {},
   "source": [
    "Python provides _, which gets you the last result.\n",
    "In IPython, you get to access all outputs by number like so..."
   ]
  },
  {
   "cell_type": "code",
   "execution_count": 2,
   "metadata": {},
   "outputs": [
    {
     "data": {
      "text/plain": [
       "4"
      ]
     },
     "execution_count": 2,
     "metadata": {},
     "output_type": "execute_result"
    }
   ],
   "source": [
    "Out[1]  # or _1"
   ]
  },
  {
   "cell_type": "code",
   "execution_count": 3,
   "metadata": {},
   "outputs": [],
   "source": [
    "x = \"Jupyter Con \""
   ]
  },
  {
   "cell_type": "markdown",
   "metadata": {},
   "source": [
    "### Tab completion\n",
    "Let's see what properties and methods are attached to a string, using tab-completion."
   ]
  },
  {
   "cell_type": "code",
   "execution_count": null,
   "metadata": {},
   "outputs": [],
   "source": [
    "x.e"
   ]
  },
  {
   "cell_type": "code",
   "execution_count": null,
   "metadata": {},
   "outputs": [],
   "source": [
    "x.endswith?"
   ]
  },
  {
   "cell_type": "markdown",
   "metadata": {},
   "source": [
    "### Object introspection\n",
    "When the object we're dealing with is implemented in Python, \n",
    "`obj??` will bring up its source code!"
   ]
  },
  {
   "cell_type": "code",
   "execution_count": null,
   "metadata": {},
   "outputs": [],
   "source": [
    "import os"
   ]
  },
  {
   "cell_type": "code",
   "execution_count": null,
   "metadata": {},
   "outputs": [],
   "source": [
    "os.path?"
   ]
  },
  {
   "cell_type": "code",
   "execution_count": null,
   "metadata": {},
   "outputs": [],
   "source": [
    "os.path??"
   ]
  },
  {
   "cell_type": "markdown",
   "metadata": {},
   "source": [
    "Works for individual functions, too, not just modules"
   ]
  },
  {
   "cell_type": "code",
   "execution_count": null,
   "metadata": {},
   "outputs": [],
   "source": [
    "os.path.join?\n",
    "os.path.join??"
   ]
  },
  {
   "cell_type": "markdown",
   "metadata": {},
   "source": [
    "<br><br><br><br><br><br><br><Br><br>\n",
    "<br><br><br><br><br><br><br><Br><br>\n",
    "<br><br><br><br><br><br><br><Br><br>"
   ]
  },
  {
   "cell_type": "markdown",
   "metadata": {},
   "source": [
    "## What if we de-couple execution from input...\n",
    "\n",
    "Brian and Fernando wrote up a [prototype using ZeroMQ in late Sprint 2010](https://github.com/zeromq/pyzmq/tree/f3076c9d343bad83c2392c6e3c63f90d94191527/examples/kernel)..."
   ]
  },
  {
   "cell_type": "markdown",
   "metadata": {},
   "source": [
    "# QtConsole is born\n",
    "\n",
    "- [IPython 0.11](http://ipython.org/news.html#ipython-0-11) - QtConsole (2011)  \n",
    "<img src=\"/files/images/qtconsole.png\" width=200px> (started in 2010?)\n",
    "\n",
    "- Paul Ivanov (me) - vim-ipython (Summer 2011)\n",
    "- The notebook - (December 2011)\n",
    "<img src=\"/files/images/ipy0.12.png\" width=200px></div>"
   ]
  },
  {
   "cell_type": "markdown",
   "metadata": {},
   "source": [
    "<br><br><br><br>"
   ]
  },
  {
   "cell_type": "markdown",
   "metadata": {},
   "source": [
    "<br><br><br><br>"
   ]
  },
  {
   "cell_type": "markdown",
   "metadata": {},
   "source": [
    "<br><br><br><br>"
   ]
  },
  {
   "cell_type": "markdown",
   "metadata": {},
   "source": [
    "# Analogy   (imperfect, but useful)"
   ]
  },
  {
   "cell_type": "markdown",
   "metadata": {},
   "source": [
    "<table>\n",
    "    <tr><th>The Web</th><th width=40%></th><th width-40%>Jupyter</th></tr>\n",
    "    <tr><td>\n",
    "        Browser\n",
    "        <br>\n",
    "        ![](/files/images/nextstation.jpg)\n",
    "        </td>\n",
    "\n",
    "        <td></td>\n",
    "        <td>\n",
    "        Client\n",
    "        <br>\n",
    "        ![](/files/images/computer.png)\n",
    "        </td>\n",
    "    </tr>\n",
    "   \n",
    "    <tr><td>\n",
    "    <br>\n",
    "<h3>speaks **HTTP** with</h3>\n",
    "          <br>\n",
    "\n",
    "        <br>\n",
    "\n",
    "        </td>\n",
    "\n",
    "        <td></td>\n",
    "        <td>\n",
    "                <br>\n",
    "<h3>speaks **Jupyter Protocol** with</h3>\n",
    "                <br>\n",
    "\n",
    "        </td>\n",
    "    </tr>\n",
    "    \n",
    "    <tr><td>\n",
    "Webserver\n",
    "        <br>\n",
    "        ![](/files/images/next.jpg)\n",
    "        </td>\n",
    "\n",
    "        <td</td>\n",
    "        <td>\n",
    "Kernel\n",
    "        <br>\n",
    "        ![](/files/images/pdp12.jpg)\n",
    "        </td>\n",
    "    </tr>\n",
    "\n",
    "</table>"
   ]
  },
  {
   "cell_type": "markdown",
   "metadata": {},
   "source": [
    "<br><br><br><br>"
   ]
  },
  {
   "cell_type": "markdown",
   "metadata": {},
   "source": [
    "<br><br><br><br>"
   ]
  },
  {
   "cell_type": "markdown",
   "metadata": {},
   "source": [
    "<br><br><br><br>"
   ]
  },
  {
   "cell_type": "markdown",
   "metadata": {},
   "source": [
    "<br><br><br><br><br><br><br><Br><br>\n",
    "<br><br><br><br><br><br><br><Br><br>\n",
    "<br><br><br><br><br><br><br><Br><br>"
   ]
  },
  {
   "cell_type": "markdown",
   "metadata": {},
   "source": [
    "<br><br><br><br>"
   ]
  },
  {
   "cell_type": "markdown",
   "metadata": {},
   "source": [
    "<br><br><br><br>"
   ]
  },
  {
   "cell_type": "markdown",
   "metadata": {},
   "source": [
    "# Kernel"
   ]
  },
  {
   "cell_type": "markdown",
   "metadata": {},
   "source": [
    "<br><br>"
   ]
  },
  {
   "cell_type": "markdown",
   "metadata": {},
   "source": [
    "## Computational Engine"
   ]
  },
  {
   "cell_type": "markdown",
   "metadata": {},
   "source": [
    "### - accepts messages <br><br> - performs actions <br><br> - sends out results"
   ]
  },
  {
   "cell_type": "markdown",
   "metadata": {},
   "source": [
    "<br><br><br><br>"
   ]
  },
  {
   "cell_type": "markdown",
   "metadata": {},
   "source": [
    "Note: In the Jupyter context, the word \"kernel\" is not related to the operating system kernel (Linux kernel, Windows kernel32, Darwin). A Jupyter kernel provides the computational backend to Jupyter clients."
   ]
  },
  {
   "cell_type": "markdown",
   "metadata": {},
   "source": [
    "<br><br><br><br>"
   ]
  },
  {
   "cell_type": "markdown",
   "metadata": {},
   "source": [
    "<br><br><br><br>"
   ]
  },
  {
   "cell_type": "markdown",
   "metadata": {},
   "source": [
    "<br><br><br><br>"
   ]
  },
  {
   "cell_type": "markdown",
   "metadata": {},
   "source": [
    "<br><br><br><br>"
   ]
  },
  {
   "cell_type": "markdown",
   "metadata": {},
   "source": [
    "<br><br><br><br>"
   ]
  },
  {
   "cell_type": "markdown",
   "metadata": {},
   "source": [
    "<br><br><br><br>"
   ]
  },
  {
   "cell_type": "markdown",
   "metadata": {},
   "source": [
    "<br><br><br><br>"
   ]
  },
  {
   "cell_type": "markdown",
   "metadata": {},
   "source": [
    "# Client"
   ]
  },
  {
   "cell_type": "markdown",
   "metadata": {},
   "source": [
    "<br><br><br><br>"
   ]
  },
  {
   "cell_type": "markdown",
   "metadata": {},
   "source": [
    "## - connects to exactly one kernel <br><br><br> - send messages to kernel based on user actions <br><br><br> - displays kernel messages when appropriate"
   ]
  },
  {
   "cell_type": "markdown",
   "metadata": {},
   "source": [
    "<br><br><br><br>"
   ]
  },
  {
   "cell_type": "markdown",
   "metadata": {},
   "source": [
    "<br><br><br><br>"
   ]
  },
  {
   "cell_type": "markdown",
   "metadata": {},
   "source": [
    "# One-to-Many (Kernel to Clients)"
   ]
  },
  {
   "cell_type": "markdown",
   "metadata": {},
   "source": [
    "<br><br><br><br>"
   ]
  },
  {
   "cell_type": "markdown",
   "metadata": {},
   "source": [
    "\n",
    "<centeR>\n",
    "<h2>console    qtconsole   vim-ipython   jupyterlab \n",
    "<br><br><br><br><br><br>\n",
    "\n",
    "\n",
    "\n",
    "\n",
    "\n",
    "\n",
    "\n",
    "kernel\n",
    "</h2>\n",
    "</centeR>\n",
    "\n",
    "\n",
    "\n",
    "\n",
    "\n"
   ]
  },
  {
   "cell_type": "markdown",
   "metadata": {},
   "source": [
    "<br><br><br><br>\n",
    "### %draw_arrows_here"
   ]
  },
  {
   "cell_type": "markdown",
   "metadata": {},
   "source": [
    "<br><br><br><br>"
   ]
  },
  {
   "cell_type": "markdown",
   "metadata": {},
   "source": [
    "<br><br><br><br>"
   ]
  },
  {
   "cell_type": "markdown",
   "metadata": {},
   "source": [
    "# Why have many clients?"
   ]
  },
  {
   "cell_type": "markdown",
   "metadata": {},
   "source": [
    "<br><br><br><br>"
   ]
  },
  {
   "cell_type": "markdown",
   "metadata": {},
   "source": [
    "Differences in\n",
    "\n",
    "\n",
    "- **multiline editing**\n",
    "    - qtconsole, notebook, vim-ipython, nteract, jupyterlab \n",
    "    - (now also in terminal ipython)\n",
    "\n",
    "- **display capabilities**\n",
    "    - images in qtconsole\n",
    "    - images, video, javascript in classic notebook, nteract, jupyterlab\n",
    "- **persistence** \n",
    "    - no save and rerun in console, qtconsole\n",
    "    - .ipynb files for notebook, EIN, nteract\n",
    "    - files for vim-ipython\n",
    "- **user interface** \n",
    "    <blockquote class=\"twitter-tweet\" lang=\"en\"><p>I have a serious illness: chronic CLI.&#10;&#10;It&#39;s terminal.</p>&mdash; Paul Ivanov (@ivanov) <a href=\"https://twitter.com/ivanov/statuses/462656105273757696\">May 3, 2014</a></blockquote>\n",
    "\n",
    "- **client-side requirements**\n",
    "    - python for console, qtconsole (vim-ipython, bipython)\n",
    "    - modern web browser for notebook, jupyterlab\n",
    "    - operating system for nteract"
   ]
  },
  {
   "cell_type": "markdown",
   "metadata": {},
   "source": [
    "<br><br><br><br>"
   ]
  },
  {
   "cell_type": "markdown",
   "metadata": {},
   "source": [
    "<br><br><br><br><br><br><br><Br><br>\n",
    "<br><br><br><br><br><br><br><Br><br>\n",
    "<br><br><br><br><br><br><br><Br><br>"
   ]
  },
  {
   "cell_type": "markdown",
   "metadata": {},
   "source": [
    "# Clients"
   ]
  },
  {
   "cell_type": "markdown",
   "metadata": {},
   "source": [
    "## Project Jupyter\n",
    "\n",
    "`jupyter qtconsole` - the original decoupling, uses Qt4\n",
    "\n",
    "`jupyter console` - terminal version, decoupled \n",
    "\n",
    "- (different from the classic single process `ipython`)\n",
    "\n",
    "both of these actually start a kernel and a client, \n",
    "  pass `--existing` flag to not start a *new* kernel \n",
    "  and instead simply connect to one that already\n",
    "    exists.\n",
    "    \n",
    "\n",
    "`jupyter notebook` - the one you're probably most familiar with.\n",
    "\n",
    "`jupyter lab` - alpha out, beta coming soon"
   ]
  },
  {
   "cell_type": "markdown",
   "metadata": {},
   "source": [
    "## Wider Jovyan Family\n",
    "\n",
    "[nteract](http://nteract.io) - desktop application for Linux, Windows, OS X\n",
    "\n",
    "[hydrogen](https://nteract.gitbooks.io/hydrogen/) - Atom editor + Jupyter\n",
    "\n",
    "([vim-ipython](https://github.com/ivanov/vim-ipython))"
   ]
  },
  {
   "cell_type": "markdown",
   "metadata": {},
   "source": [
    "<br><br><br><br>"
   ]
  },
  {
   "cell_type": "markdown",
   "metadata": {},
   "source": [
    "# Notebook server details of note..."
   ]
  },
  {
   "cell_type": "markdown",
   "metadata": {},
   "source": [
    "Here's a [sequence diagram](/files/notebook-as-proxy.html) that explains how a notebook server acts as a proxy\n",
    "for communication between a webbrowser and a kernel."
   ]
  },
  {
   "cell_type": "code",
   "execution_count": 4,
   "metadata": {},
   "outputs": [
    {
     "data": {
      "image/svg+xml": [
       "<svg height=\"1154.96875\" style=\"overflow: hidden; position: relative; left: -0.986111px; top: -0.298613px;\" version=\"1.1\" width=\"997.671875\" xmlns=\"http://www.w3.org/2000/svg\"><desc style=\"-webkit-tap-highlight-color: rgba(0, 0, 0, 0);\">Created with RaphaÃ«l 2.1.2</desc><defs style=\"-webkit-tap-highlight-color: rgba(0, 0, 0, 0);\"><path d=\"M5,0 0,2.5 5,5z\" id=\"raphael-marker-block\" stroke-linecap=\"round\" style=\"-webkit-tap-highlight-color: rgba(0, 0, 0, 0);\"/><marker id=\"raphael-marker-endblock55\" markerHeight=\"5\" markerWidth=\"5\" orient=\"auto\" refX=\"2.5\" refY=\"2.5\" style=\"-webkit-tap-highlight-color: rgba(0, 0, 0, 0);\"><use fill=\"#000\" stroke=\"none\" stroke-width=\"1.0000\" style=\"-webkit-tap-highlight-color: rgba(0, 0, 0, 0);\" transform=\"rotate(180 2.5 2.5) scale(1,1)\" xlink:href=\"#raphael-marker-block\" xmlns:xlink=\"http://www.w3.org/1999/xlink\"/></marker></defs><rect fill=\"none\" height=\"27.765625\" r=\"0\" rx=\"0\" ry=\"0\" stroke=\"#000000\" stroke-width=\"2\" style=\"-webkit-tap-highlight-color: rgba(0, 0, 0, 0);\" width=\"528.46875\" x=\"10\" y=\"10\"/><rect fill=\"#ffffff\" height=\"17.765625\" r=\"0\" rx=\"0\" ry=\"0\" stroke=\"none\" style=\"-webkit-tap-highlight-color: rgba(0, 0, 0, 0);\" width=\"518.46875\" x=\"14.984375\" y=\"15\"/><text fill=\"#000000\" font=\"10px &quot;Arial&quot;\" font-family=\"Andale Mono, monospace\" font-size=\"16px\" stroke=\"none\" style=\"-webkit-tap-highlight-color: rgba(0, 0, 0, 0); text-anchor: middle; font-style: normal; font-variant: normal; font-weight: normal; font-stretch: normal; font-size: 16px; line-height: normal; font-family: &quot;Andale Mono&quot;, monospace;\" text-anchor=\"middle\" x=\"274.234375\" y=\"23.8828125\"><tspan dy=\"5.5625\" style=\"-webkit-tap-highlight-color: rgba(0, 0, 0, 0);\">User browses to localhost:8888/notebooks/example.ipynb</tspan></text><rect fill=\"none\" height=\"56.953125\" r=\"0\" rx=\"0\" ry=\"0\" stroke=\"#000000\" stroke-width=\"2\" style=\"-webkit-tap-highlight-color: rgba(0, 0, 0, 0);\" width=\"87.203125\" x=\"169.6171875\" y=\"47.765625\"/><rect fill=\"#ffffff\" height=\"17.765625\" r=\"0\" rx=\"0\" ry=\"0\" stroke=\"none\" style=\"-webkit-tap-highlight-color: rgba(0, 0, 0, 0);\" width=\"67.203125\" x=\"179.609375\" y=\"67.359375\"/><text fill=\"#000000\" font=\"10px &quot;Arial&quot;\" font-family=\"Andale Mono, monospace\" font-size=\"16px\" stroke=\"none\" style=\"-webkit-tap-highlight-color: rgba(0, 0, 0, 0); text-anchor: middle; font-style: normal; font-variant: normal; font-weight: normal; font-stretch: normal; font-size: 16px; line-height: normal; font-family: &quot;Andale Mono&quot;, monospace;\" text-anchor=\"middle\" x=\"213.21875\" y=\"76.2421875\"><tspan dy=\"5.5625\" style=\"-webkit-tap-highlight-color: rgba(0, 0, 0, 0);\">browser</tspan></text><rect fill=\"none\" height=\"56.953125\" r=\"0\" rx=\"0\" ry=\"0\" stroke=\"#000000\" stroke-width=\"2\" style=\"-webkit-tap-highlight-color: rgba(0, 0, 0, 0);\" width=\"87.203125\" x=\"169.6171875\" y=\"1078.015625\"/><rect fill=\"#ffffff\" height=\"17.765625\" r=\"0\" rx=\"0\" ry=\"0\" stroke=\"none\" style=\"-webkit-tap-highlight-color: rgba(0, 0, 0, 0);\" width=\"67.203125\" x=\"179.609375\" y=\"1097.609375\"/><text fill=\"#000000\" font=\"10px &quot;Arial&quot;\" font-family=\"Andale Mono, monospace\" font-size=\"16px\" stroke=\"none\" style=\"-webkit-tap-highlight-color: rgba(0, 0, 0, 0); text-anchor: middle; font-style: normal; font-variant: normal; font-weight: normal; font-stretch: normal; font-size: 16px; line-height: normal; font-family: &quot;Andale Mono&quot;, monospace;\" text-anchor=\"middle\" x=\"213.21875\" y=\"1106.4921875\"><tspan dy=\"5.5625\" style=\"-webkit-tap-highlight-color: rgba(0, 0, 0, 0);\">browser</tspan></text><path d=\"M213.21875,104.71875L213.21875,1078.015625\" fill=\"none\" stroke=\"#000000\" stroke-width=\"2\" style=\"-webkit-tap-highlight-color: rgba(0, 0, 0, 0);\"/><rect fill=\"none\" height=\"56.953125\" r=\"0\" rx=\"0\" ry=\"0\" stroke=\"#000000\" stroke-width=\"2\" style=\"-webkit-tap-highlight-color: rgba(0, 0, 0, 0);\" width=\"96.796875\" x=\"493.2578125\" y=\"47.765625\"/><rect fill=\"#ffffff\" height=\"36.953125\" r=\"0\" rx=\"0\" ry=\"0\" stroke=\"none\" style=\"-webkit-tap-highlight-color: rgba(0, 0, 0, 0);\" width=\"76.796875\" x=\"503.25\" y=\"57.765625\"/><text fill=\"#000000\" font=\"10px &quot;Arial&quot;\" font-family=\"Andale Mono, monospace\" font-size=\"16px\" stroke=\"none\" style=\"-webkit-tap-highlight-color: rgba(0, 0, 0, 0); text-anchor: middle; font-style: normal; font-variant: normal; font-weight: normal; font-stretch: normal; font-size: 16px; line-height: normal; font-family: &quot;Andale Mono&quot;, monospace;\" text-anchor=\"middle\" x=\"541.65625\" y=\"76.2421875\"><tspan dy=\"-4.0390625\" style=\"-webkit-tap-highlight-color: rgba(0, 0, 0, 0);\">notebook</tspan><tspan dy=\"19.2\" style=\"-webkit-tap-highlight-color: rgba(0, 0, 0, 0);\" x=\"541.65625\">server</tspan></text><rect fill=\"none\" height=\"56.953125\" r=\"0\" rx=\"0\" ry=\"0\" stroke=\"#000000\" stroke-width=\"2\" style=\"-webkit-tap-highlight-color: rgba(0, 0, 0, 0);\" width=\"96.796875\" x=\"493.2578125\" y=\"1078.015625\"/><rect fill=\"#ffffff\" height=\"36.953125\" r=\"0\" rx=\"0\" ry=\"0\" stroke=\"none\" style=\"-webkit-tap-highlight-color: rgba(0, 0, 0, 0);\" width=\"76.796875\" x=\"503.25\" y=\"1088.015625\"/><text fill=\"#000000\" font=\"10px &quot;Arial&quot;\" font-family=\"Andale Mono, monospace\" font-size=\"16px\" stroke=\"none\" style=\"-webkit-tap-highlight-color: rgba(0, 0, 0, 0); text-anchor: middle; font-style: normal; font-variant: normal; font-weight: normal; font-stretch: normal; font-size: 16px; line-height: normal; font-family: &quot;Andale Mono&quot;, monospace;\" text-anchor=\"middle\" x=\"541.65625\" y=\"1106.4921875\"><tspan dy=\"-4.0390625\" style=\"-webkit-tap-highlight-color: rgba(0, 0, 0, 0);\">notebook</tspan><tspan dy=\"19.2\" style=\"-webkit-tap-highlight-color: rgba(0, 0, 0, 0);\" x=\"541.65625\">server</tspan></text><path d=\"M541.65625,104.71875L541.65625,1078.015625\" fill=\"none\" stroke=\"#000000\" stroke-width=\"2\" style=\"-webkit-tap-highlight-color: rgba(0, 0, 0, 0);\"/><rect fill=\"none\" height=\"56.953125\" r=\"0\" rx=\"0\" ry=\"0\" stroke=\"#000000\" stroke-width=\"2\" style=\"-webkit-tap-highlight-color: rgba(0, 0, 0, 0);\" width=\"77.59375\" x=\"811.6875\" y=\"47.765625\"/><rect fill=\"#ffffff\" height=\"17.765625\" r=\"0\" rx=\"0\" ry=\"0\" stroke=\"none\" style=\"-webkit-tap-highlight-color: rgba(0, 0, 0, 0);\" width=\"57.59375\" x=\"821.671875\" y=\"67.359375\"/><text fill=\"#000000\" font=\"10px &quot;Arial&quot;\" font-family=\"Andale Mono, monospace\" font-size=\"16px\" stroke=\"none\" style=\"-webkit-tap-highlight-color: rgba(0, 0, 0, 0); text-anchor: middle; font-style: normal; font-variant: normal; font-weight: normal; font-stretch: normal; font-size: 16px; line-height: normal; font-family: &quot;Andale Mono&quot;, monospace;\" text-anchor=\"middle\" x=\"850.484375\" y=\"76.2421875\"><tspan dy=\"5.5625\" style=\"-webkit-tap-highlight-color: rgba(0, 0, 0, 0);\">kernel</tspan></text><rect fill=\"none\" height=\"56.953125\" r=\"0\" rx=\"0\" ry=\"0\" stroke=\"#000000\" stroke-width=\"2\" style=\"-webkit-tap-highlight-color: rgba(0, 0, 0, 0);\" width=\"77.59375\" x=\"811.6875\" y=\"1078.015625\"/><rect fill=\"#ffffff\" height=\"17.765625\" r=\"0\" rx=\"0\" ry=\"0\" stroke=\"none\" style=\"-webkit-tap-highlight-color: rgba(0, 0, 0, 0);\" width=\"57.59375\" x=\"821.671875\" y=\"1097.609375\"/><text fill=\"#000000\" font=\"10px &quot;Arial&quot;\" font-family=\"Andale Mono, monospace\" font-size=\"16px\" stroke=\"none\" style=\"-webkit-tap-highlight-color: rgba(0, 0, 0, 0); text-anchor: middle; font-style: normal; font-variant: normal; font-weight: normal; font-stretch: normal; font-size: 16px; line-height: normal; font-family: &quot;Andale Mono&quot;, monospace;\" text-anchor=\"middle\" x=\"850.484375\" y=\"1106.4921875\"><tspan dy=\"5.5625\" style=\"-webkit-tap-highlight-color: rgba(0, 0, 0, 0);\">kernel</tspan></text><path d=\"M850.484375,104.71875L850.484375,1078.015625\" fill=\"none\" stroke=\"#000000\" stroke-width=\"2\" style=\"-webkit-tap-highlight-color: rgba(0, 0, 0, 0);\"/><rect fill=\"#ffffff\" height=\"17.765625\" r=\"0\" rx=\"0\" ry=\"0\" stroke=\"none\" style=\"-webkit-tap-highlight-color: rgba(0, 0, 0, 0);\" width=\"268.828125\" x=\"566.640625\" y=\"124.71875\"/><text fill=\"#000000\" font=\"10px &quot;Arial&quot;\" font-family=\"Andale Mono, monospace\" font-size=\"16px\" stroke=\"none\" style=\"-webkit-tap-highlight-color: rgba(0, 0, 0, 0); text-anchor: middle; font-style: normal; font-variant: normal; font-weight: normal; font-stretch: normal; font-size: 16px; line-height: normal; font-family: &quot;Andale Mono&quot;, monospace;\" text-anchor=\"middle\" x=\"701.0625\" y=\"133.6015625\"><tspan dy=\"5.5625\" style=\"-webkit-tap-highlight-color: rgba(0, 0, 0, 0);\">grabs kernelspec from .ipynb</tspan></text><path d=\"M541.65625,119.71875L561.65625,119.71875\" fill=\"none\" stroke=\"#000000\" stroke-dasharray=\"0\" stroke-width=\"2\" style=\"-webkit-tap-highlight-color: rgba(0, 0, 0, 0);\"/><path d=\"M561.65625,119.71875L561.65625,152.484375\" fill=\"none\" stroke=\"#000000\" stroke-dasharray=\"0\" stroke-width=\"2\" style=\"-webkit-tap-highlight-color: rgba(0, 0, 0, 0);\"/><path d=\"M561.65625,152.484375C561.65625,152.484375,552.5753631591797,152.484375,546.6515033841133,152.484375\" fill=\"none\" marker-end=\"url(#raphael-marker-endblock55)\" stroke=\"#000000\" stroke-dasharray=\"0\" stroke-width=\"2\" style=\"-webkit-tap-highlight-color: rgba(0, 0, 0, 0);\"/><rect fill=\"#ffffff\" height=\"17.765625\" r=\"0\" rx=\"0\" ry=\"0\" stroke=\"none\" style=\"-webkit-tap-highlight-color: rgba(0, 0, 0, 0);\" width=\"192.015625\" x=\"600.046875\" y=\"158.59375\"/><text fill=\"#000000\" font=\"10px &quot;Arial&quot;\" font-family=\"Andale Mono, monospace\" font-size=\"16px\" stroke=\"none\" style=\"-webkit-tap-highlight-color: rgba(0, 0, 0, 0); text-anchor: middle; font-style: normal; font-variant: normal; font-weight: normal; font-stretch: normal; font-size: 16px; line-height: normal; font-family: &quot;Andale Mono&quot;, monospace;\" text-anchor=\"middle\" x=\"696.0703125\" y=\"167.484375\"><tspan dy=\"5.5546875\" style=\"-webkit-tap-highlight-color: rgba(0, 0, 0, 0);\">starts up the kernel</tspan></text><path d=\"M541.65625,180.25C541.65625,180.25,805.6463004471734,180.25,845.4768305195253,180.25\" fill=\"none\" marker-end=\"url(#raphael-marker-endblock55)\" stroke=\"#000000\" stroke-dasharray=\"0\" stroke-width=\"2\" style=\"-webkit-tap-highlight-color: rgba(0, 0, 0, 0);\"/><rect fill=\"none\" height=\"27.765625\" r=\"0\" rx=\"0\" ry=\"0\" stroke=\"#000000\" stroke-width=\"2\" style=\"-webkit-tap-highlight-color: rgba(0, 0, 0, 0);\" width=\"250.03125\" x=\"561.65625\" y=\"200.25\"/><rect fill=\"#ffffff\" height=\"17.765625\" r=\"0\" rx=\"0\" ry=\"0\" stroke=\"none\" style=\"-webkit-tap-highlight-color: rgba(0, 0, 0, 0);\" width=\"240.03125\" x=\"566.640625\" y=\"205.25\"/><text fill=\"#000000\" font=\"10px &quot;Arial&quot;\" font-family=\"Andale Mono, monospace\" font-size=\"16px\" stroke=\"none\" style=\"-webkit-tap-highlight-color: rgba(0, 0, 0, 0); text-anchor: middle; font-style: normal; font-variant: normal; font-weight: normal; font-stretch: normal; font-size: 16px; line-height: normal; font-family: &quot;Andale Mono&quot;, monospace;\" text-anchor=\"middle\" x=\"686.671875\" y=\"214.1328125\"><tspan dy=\"5.5625\" style=\"-webkit-tap-highlight-color: rgba(0, 0, 0, 0);\">ZeroMQ connection started</tspan></text><rect fill=\"#ffffff\" height=\"36.96875\" r=\"0\" rx=\"0\" ry=\"0\" stroke=\"none\" style=\"-webkit-tap-highlight-color: rgba(0, 0, 0, 0);\" width=\"259.234375\" x=\"247.8125\" y=\"234.53125\"/><text fill=\"#000000\" font=\"10px &quot;Arial&quot;\" font-family=\"Andale Mono, monospace\" font-size=\"16px\" stroke=\"none\" style=\"-webkit-tap-highlight-color: rgba(0, 0, 0, 0); text-anchor: middle; font-style: normal; font-variant: normal; font-weight: normal; font-stretch: normal; font-size: 16px; line-height: normal; font-family: &quot;Andale Mono&quot;, monospace;\" text-anchor=\"middle\" x=\"377.4375\" y=\"253.015625\"><tspan dy=\"-4.0390625\" style=\"-webkit-tap-highlight-color: rgba(0, 0, 0, 0);\">fetches notebook file</tspan><tspan dy=\"19.2\" style=\"-webkit-tap-highlight-color: rgba(0, 0, 0, 0);\" x=\"377.4375\">/api/contents/example.ipynb</tspan></text><path d=\"M213.21875,284.96875C213.21875,284.96875,495.4558077417314,284.96875,536.6613156835174,284.96875\" fill=\"none\" marker-end=\"url(#raphael-marker-endblock55)\" stroke=\"#000000\" stroke-dasharray=\"0\" stroke-width=\"2\" style=\"-webkit-tap-highlight-color: rgba(0, 0, 0, 0);\"/><rect fill=\"#ffffff\" height=\"0\" r=\"0\" rx=\"0\" ry=\"0\" stroke=\"none\" style=\"-webkit-tap-highlight-color: rgba(0, 0, 0, 0);\" width=\"0\" x=\"0\" y=\"0\"/><text fill=\"#000000\" font=\"10px &quot;Arial&quot;\" font-family=\"Andale Mono, monospace\" font-size=\"16px\" stroke=\"none\" style=\"-webkit-tap-highlight-color: rgba(0, 0, 0, 0); text-anchor: middle; font-style: normal; font-variant: normal; font-weight: normal; font-stretch: normal; font-size: 16px; line-height: normal; font-family: &quot;Andale Mono&quot;, monospace;\" text-anchor=\"middle\" x=\"377.4375\" y=\"309.96875\"><tspan dy=\"309.96875\" style=\"-webkit-tap-highlight-color: rgba(0, 0, 0, 0);\"/></text><path d=\"M541.65625,304.96875C541.65625,304.96875,259.4191922582686,304.96875,218.2136843164826,304.96875\" fill=\"none\" marker-end=\"url(#raphael-marker-endblock55)\" stroke=\"#000000\" stroke-dasharray=\"0\" stroke-width=\"2\" style=\"-webkit-tap-highlight-color: rgba(0, 0, 0, 0);\"/><rect fill=\"#ffffff\" height=\"36.953125\" r=\"0\" rx=\"0\" ry=\"0\" stroke=\"none\" style=\"-webkit-tap-highlight-color: rgba(0, 0, 0, 0);\" width=\"268.828125\" x=\"238.203125\" y=\"324.96875\"/><text fill=\"#000000\" font=\"10px &quot;Arial&quot;\" font-family=\"Andale Mono, monospace\" font-size=\"16px\" stroke=\"none\" style=\"-webkit-tap-highlight-color: rgba(0, 0, 0, 0); text-anchor: middle; font-style: normal; font-variant: normal; font-weight: normal; font-stretch: normal; font-size: 16px; line-height: normal; font-family: &quot;Andale Mono&quot;, monospace;\" text-anchor=\"middle\" x=\"372.625\" y=\"343.4453125\"><tspan dy=\"-4.0390625\" style=\"-webkit-tap-highlight-color: rgba(0, 0, 0, 0);\">parses .ipynb JSON structure</tspan><tspan dy=\"19.2\" style=\"-webkit-tap-highlight-color: rgba(0, 0, 0, 0);\" x=\"372.625\">creates JS representation</tspan></text><path d=\"M213.21875,319.96875L233.21875,319.96875\" fill=\"none\" stroke=\"#000000\" stroke-dasharray=\"0\" stroke-width=\"2\" style=\"-webkit-tap-highlight-color: rgba(0, 0, 0, 0);\"/><path d=\"M233.21875,319.96875L233.21875,371.921875\" fill=\"none\" stroke=\"#000000\" stroke-dasharray=\"0\" stroke-width=\"2\" style=\"-webkit-tap-highlight-color: rgba(0, 0, 0, 0);\"/><path d=\"M233.21875,371.921875C233.21875,371.921875,224.1378631591797,371.921875,218.2140033841133,371.921875\" fill=\"none\" marker-end=\"url(#raphael-marker-endblock55)\" stroke=\"#000000\" stroke-dasharray=\"0\" stroke-width=\"2\" style=\"-webkit-tap-highlight-color: rgba(0, 0, 0, 0);\"/><rect fill=\"none\" height=\"46.953125\" r=\"0\" rx=\"0\" ry=\"0\" stroke=\"#000000\" stroke-width=\"2\" style=\"-webkit-tap-highlight-color: rgba(0, 0, 0, 0);\" width=\"173.21875\" x=\"20\" y=\"381.921875\"/><rect fill=\"#ffffff\" height=\"36.953125\" r=\"0\" rx=\"0\" ry=\"0\" stroke=\"none\" style=\"-webkit-tap-highlight-color: rgba(0, 0, 0, 0);\" width=\"163.21875\" x=\"24.984375\" y=\"386.921875\"/><text fill=\"#000000\" font=\"10px &quot;Arial&quot;\" font-family=\"Andale Mono, monospace\" font-size=\"16px\" stroke=\"none\" style=\"-webkit-tap-highlight-color: rgba(0, 0, 0, 0); text-anchor: middle; font-style: normal; font-variant: normal; font-weight: normal; font-stretch: normal; font-size: 16px; line-height: normal; font-family: &quot;Andale Mono&quot;, monospace;\" text-anchor=\"middle\" x=\"106.609375\" y=\"405.3984375\"><tspan dy=\"-4.0390625\" style=\"-webkit-tap-highlight-color: rgba(0, 0, 0, 0);\">example.ipynb </tspan><tspan dy=\"19.2\" style=\"-webkit-tap-highlight-color: rgba(0, 0, 0, 0);\" x=\"106.609375\"> contents rendered</tspan></text><rect fill=\"#ffffff\" height=\"36.96875\" r=\"0\" rx=\"0\" ry=\"0\" stroke=\"none\" style=\"-webkit-tap-highlight-color: rgba(0, 0, 0, 0);\" width=\"201.625\" x=\"276.609375\" y=\"435.390625\"/><text fill=\"#000000\" font=\"10px &quot;Arial&quot;\" font-family=\"Andale Mono, monospace\" font-size=\"16px\" stroke=\"none\" style=\"-webkit-tap-highlight-color: rgba(0, 0, 0, 0); text-anchor: middle; font-style: normal; font-variant: normal; font-weight: normal; font-stretch: normal; font-size: 16px; line-height: normal; font-family: &quot;Andale Mono&quot;, monospace;\" text-anchor=\"middle\" x=\"377.4375\" y=\"453.875\"><tspan dy=\"-4.0390625\" style=\"-webkit-tap-highlight-color: rgba(0, 0, 0, 0);\">fetches /api/sessions</tspan><tspan dy=\"19.2\" style=\"-webkit-tap-highlight-color: rgba(0, 0, 0, 0);\" x=\"377.4375\">to get websocket URL</tspan></text><path d=\"M213.21875,485.828125C213.21875,485.828125,495.4558077417314,485.828125,536.6613156835174,485.828125\" fill=\"none\" marker-end=\"url(#raphael-marker-endblock55)\" stroke=\"#000000\" stroke-dasharray=\"0\" stroke-width=\"2\" style=\"-webkit-tap-highlight-color: rgba(0, 0, 0, 0);\"/><rect fill=\"#ffffff\" height=\"0\" r=\"0\" rx=\"0\" ry=\"0\" stroke=\"none\" style=\"-webkit-tap-highlight-color: rgba(0, 0, 0, 0);\" width=\"0\" x=\"0\" y=\"0\"/><text fill=\"#000000\" font=\"10px &quot;Arial&quot;\" font-family=\"Andale Mono, monospace\" font-size=\"16px\" stroke=\"none\" style=\"-webkit-tap-highlight-color: rgba(0, 0, 0, 0); text-anchor: middle; font-style: normal; font-variant: normal; font-weight: normal; font-stretch: normal; font-size: 16px; line-height: normal; font-family: &quot;Andale Mono&quot;, monospace;\" text-anchor=\"middle\" x=\"377.4375\" y=\"510.828125\"><tspan dy=\"510.828125\" style=\"-webkit-tap-highlight-color: rgba(0, 0, 0, 0);\"/></text><path d=\"M541.65625,505.828125C541.65625,505.828125,259.4191922582686,505.828125,218.2136843164826,505.828125\" fill=\"none\" marker-end=\"url(#raphael-marker-endblock55)\" stroke=\"#000000\" stroke-dasharray=\"0\" stroke-width=\"2\" style=\"-webkit-tap-highlight-color: rgba(0, 0, 0, 0);\"/><rect fill=\"none\" height=\"27.765625\" r=\"0\" rx=\"0\" ry=\"0\" stroke=\"#000000\" stroke-width=\"2\" style=\"-webkit-tap-highlight-color: rgba(0, 0, 0, 0);\" width=\"288.4375\" x=\"233.21875\" y=\"525.828125\"/><rect fill=\"#ffffff\" height=\"17.765625\" r=\"0\" rx=\"0\" ry=\"0\" stroke=\"none\" style=\"-webkit-tap-highlight-color: rgba(0, 0, 0, 0);\" width=\"278.4375\" x=\"238.203125\" y=\"530.828125\"/><text fill=\"#000000\" font=\"10px &quot;Arial&quot;\" font-family=\"Andale Mono, monospace\" font-size=\"16px\" stroke=\"none\" style=\"-webkit-tap-highlight-color: rgba(0, 0, 0, 0); text-anchor: middle; font-style: normal; font-variant: normal; font-weight: normal; font-stretch: normal; font-size: 16px; line-height: normal; font-family: &quot;Andale Mono&quot;, monospace;\" text-anchor=\"middle\" x=\"377.4375\" y=\"539.7109375\"><tspan dy=\"5.5625\" style=\"-webkit-tap-highlight-color: rgba(0, 0, 0, 0);\">websockets connection started</tspan></text><rect fill=\"#ffffff\" height=\"36.96875\" r=\"0\" rx=\"0\" ry=\"0\" stroke=\"none\" style=\"-webkit-tap-highlight-color: rgba(0, 0, 0, 0);\" width=\"153.609375\" x=\"300.625\" y=\"560.109375\"/><text fill=\"#000000\" font=\"10px &quot;Arial&quot;\" font-family=\"Andale Mono, monospace\" font-size=\"16px\" stroke=\"none\" style=\"-webkit-tap-highlight-color: rgba(0, 0, 0, 0); text-anchor: middle; font-style: normal; font-variant: normal; font-weight: normal; font-stretch: normal; font-size: 16px; line-height: normal; font-family: &quot;Andale Mono&quot;, monospace;\" text-anchor=\"middle\" x=\"377.4375\" y=\"578.59375\"><tspan dy=\"-4.0390625\" style=\"-webkit-tap-highlight-color: rgba(0, 0, 0, 0);\">Jupyter Protocol</tspan><tspan dy=\"19.2\" style=\"-webkit-tap-highlight-color: rgba(0, 0, 0, 0);\" x=\"377.4375\">over websockets</tspan></text><path d=\"M541.65625,610.546875C541.65625,610.546875,259.4191922582686,610.546875,218.2136843164826,610.546875\" fill=\"none\" marker-end=\"url(#raphael-marker-endblock55)\" stroke=\"#000000\" stroke-dasharray=\"6,2\" stroke-width=\"2\" style=\"-webkit-tap-highlight-color: rgba(0, 0, 0, 0);\"/><rect fill=\"#ffffff\" height=\"0\" r=\"0\" rx=\"0\" ry=\"0\" stroke=\"none\" style=\"-webkit-tap-highlight-color: rgba(0, 0, 0, 0);\" width=\"0\" x=\"0\" y=\"0\"/><text fill=\"#000000\" font=\"10px &quot;Arial&quot;\" font-family=\"Andale Mono, monospace\" font-size=\"16px\" stroke=\"none\" style=\"-webkit-tap-highlight-color: rgba(0, 0, 0, 0); text-anchor: middle; font-style: normal; font-variant: normal; font-weight: normal; font-stretch: normal; font-size: 16px; line-height: normal; font-family: &quot;Andale Mono&quot;, monospace;\" text-anchor=\"middle\" x=\"377.4375\" y=\"635.546875\"><tspan dy=\"635.546875\" style=\"-webkit-tap-highlight-color: rgba(0, 0, 0, 0);\"/></text><path d=\"M213.21875,630.546875C213.21875,630.546875,495.4558077417314,630.546875,536.6613156835174,630.546875\" fill=\"none\" marker-end=\"url(#raphael-marker-endblock55)\" stroke=\"#000000\" stroke-dasharray=\"6,2\" stroke-width=\"2\" style=\"-webkit-tap-highlight-color: rgba(0, 0, 0, 0);\"/><rect fill=\"#ffffff\" height=\"36.96875\" r=\"0\" rx=\"0\" ry=\"0\" stroke=\"none\" style=\"-webkit-tap-highlight-color: rgba(0, 0, 0, 0);\" width=\"153.609375\" x=\"619.25\" y=\"637.0625\"/><text fill=\"#000000\" font=\"10px &quot;Arial&quot;\" font-family=\"Andale Mono, monospace\" font-size=\"16px\" stroke=\"none\" style=\"-webkit-tap-highlight-color: rgba(0, 0, 0, 0); text-anchor: middle; font-style: normal; font-variant: normal; font-weight: normal; font-stretch: normal; font-size: 16px; line-height: normal; font-family: &quot;Andale Mono&quot;, monospace;\" text-anchor=\"middle\" x=\"696.0703125\" y=\"655.546875\"><tspan dy=\"-4.0390625\" style=\"-webkit-tap-highlight-color: rgba(0, 0, 0, 0);\">Jupyter Protocol</tspan><tspan dy=\"19.2\" style=\"-webkit-tap-highlight-color: rgba(0, 0, 0, 0);\" x=\"696.0703125\"> over ZeroMQ</tspan></text><path d=\"M541.65625,687.5C541.65625,687.5,805.6463004471734,687.5,845.4768305195253,687.5\" fill=\"none\" marker-end=\"url(#raphael-marker-endblock55)\" stroke=\"#000000\" stroke-dasharray=\"6,2\" stroke-width=\"2\" style=\"-webkit-tap-highlight-color: rgba(0, 0, 0, 0);\"/><rect fill=\"#ffffff\" height=\"0\" r=\"0\" rx=\"0\" ry=\"0\" stroke=\"none\" style=\"-webkit-tap-highlight-color: rgba(0, 0, 0, 0);\" width=\"0\" x=\"0\" y=\"0\"/><text fill=\"#000000\" font=\"10px &quot;Arial&quot;\" font-family=\"Andale Mono, monospace\" font-size=\"16px\" stroke=\"none\" style=\"-webkit-tap-highlight-color: rgba(0, 0, 0, 0); text-anchor: middle; font-style: normal; font-variant: normal; font-weight: normal; font-stretch: normal; font-size: 16px; line-height: normal; font-family: &quot;Andale Mono&quot;, monospace;\" text-anchor=\"middle\" x=\"696.0703125\" y=\"712.5\"><tspan dy=\"712.5\" style=\"-webkit-tap-highlight-color: rgba(0, 0, 0, 0);\"/></text><path d=\"M850.484375,707.5C850.484375,707.5,586.4943245528266,707.5,546.6637944804747,707.5\" fill=\"none\" marker-end=\"url(#raphael-marker-endblock55)\" stroke=\"#000000\" stroke-dasharray=\"6,2\" stroke-width=\"2\" style=\"-webkit-tap-highlight-color: rgba(0, 0, 0, 0);\"/><rect fill=\"none\" height=\"66.15625\" r=\"0\" rx=\"0\" ry=\"0\" stroke=\"#000000\" stroke-width=\"2\" style=\"-webkit-tap-highlight-color: rgba(0, 0, 0, 0);\" width=\"173.21875\" x=\"20\" y=\"727.5\"/><rect fill=\"#ffffff\" height=\"56.15625\" r=\"0\" rx=\"0\" ry=\"0\" stroke=\"none\" style=\"-webkit-tap-highlight-color: rgba(0, 0, 0, 0);\" width=\"163.21875\" x=\"24.984375\" y=\"732.5\"/><text fill=\"#000000\" font=\"10px &quot;Arial&quot;\" font-family=\"Andale Mono, monospace\" font-size=\"16px\" stroke=\"none\" style=\"-webkit-tap-highlight-color: rgba(0, 0, 0, 0); text-anchor: middle; font-style: normal; font-variant: normal; font-weight: normal; font-stretch: normal; font-size: 16px; line-height: normal; font-family: &quot;Andale Mono&quot;, monospace;\" text-anchor=\"middle\" x=\"106.609375\" y=\"760.578125\"><tspan dy=\"-13.640625\" style=\"-webkit-tap-highlight-color: rgba(0, 0, 0, 0);\">User types &quot;x=42&quot;</tspan><tspan dy=\"19.2\" style=\"-webkit-tap-highlight-color: rgba(0, 0, 0, 0);\" x=\"106.609375\">in a cell and</tspan><tspan dy=\"19.2\" style=\"-webkit-tap-highlight-color: rgba(0, 0, 0, 0);\" x=\"106.609375\">executes it</tspan></text><rect fill=\"#ffffff\" height=\"17.765625\" r=\"0\" rx=\"0\" ry=\"0\" stroke=\"none\" style=\"-webkit-tap-highlight-color: rgba(0, 0, 0, 0);\" width=\"134.40625\" x=\"310.21875\" y=\"809.765625\"/><text fill=\"#000000\" font=\"10px &quot;Arial&quot;\" font-family=\"Andale Mono, monospace\" font-size=\"16px\" stroke=\"none\" style=\"-webkit-tap-highlight-color: rgba(0, 0, 0, 0); text-anchor: middle; font-style: normal; font-variant: normal; font-weight: normal; font-stretch: normal; font-size: 16px; line-height: normal; font-family: &quot;Andale Mono&quot;, monospace;\" text-anchor=\"middle\" x=\"377.4375\" y=\"818.65625\"><tspan dy=\"5.5546875\" style=\"-webkit-tap-highlight-color: rgba(0, 0, 0, 0);\">Execute &quot;x=42&quot;</tspan></text><path d=\"M213.21875,831.421875C213.21875,831.421875,495.4558077417314,831.421875,536.6613156835174,831.421875\" fill=\"none\" marker-end=\"url(#raphael-marker-endblock55)\" stroke=\"#000000\" stroke-dasharray=\"0\" stroke-width=\"2\" style=\"-webkit-tap-highlight-color: rgba(0, 0, 0, 0);\"/><rect fill=\"#ffffff\" height=\"17.765625\" r=\"0\" rx=\"0\" ry=\"0\" stroke=\"none\" style=\"-webkit-tap-highlight-color: rgba(0, 0, 0, 0);\" width=\"134.40625\" x=\"628.859375\" y=\"847.53125\"/><text fill=\"#000000\" font=\"10px &quot;Arial&quot;\" font-family=\"Andale Mono, monospace\" font-size=\"16px\" stroke=\"none\" style=\"-webkit-tap-highlight-color: rgba(0, 0, 0, 0); text-anchor: middle; font-style: normal; font-variant: normal; font-weight: normal; font-stretch: normal; font-size: 16px; line-height: normal; font-family: &quot;Andale Mono&quot;, monospace;\" text-anchor=\"middle\" x=\"696.0703125\" y=\"856.421875\"><tspan dy=\"5.5546875\" style=\"-webkit-tap-highlight-color: rgba(0, 0, 0, 0);\">Execute &quot;x=42&quot;</tspan></text><path d=\"M541.65625,869.1875C541.65625,869.1875,805.6463004471734,869.1875,845.4768305195253,869.1875\" fill=\"none\" marker-end=\"url(#raphael-marker-endblock55)\" stroke=\"#000000\" stroke-dasharray=\"0\" stroke-width=\"2\" style=\"-webkit-tap-highlight-color: rgba(0, 0, 0, 0);\"/><rect fill=\"#ffffff\" height=\"17.765625\" r=\"0\" rx=\"0\" ry=\"0\" stroke=\"none\" style=\"-webkit-tap-highlight-color: rgba(0, 0, 0, 0);\" width=\"48\" x=\"238.203125\" y=\"889.1875\"/><text fill=\"#000000\" font=\"10px &quot;Arial&quot;\" font-family=\"Andale Mono, monospace\" font-size=\"16px\" stroke=\"none\" style=\"-webkit-tap-highlight-color: rgba(0, 0, 0, 0); text-anchor: middle; font-style: normal; font-variant: normal; font-weight: normal; font-stretch: normal; font-size: 16px; line-height: normal; font-family: &quot;Andale Mono&quot;, monospace;\" text-anchor=\"middle\" x=\"262.21875\" y=\"898.0703125\"><tspan dy=\"5.5625\" style=\"-webkit-tap-highlight-color: rgba(0, 0, 0, 0);\">In[*]</tspan></text><path d=\"M213.21875,884.1875L233.21875,884.1875\" fill=\"none\" stroke=\"#000000\" stroke-dasharray=\"0\" stroke-width=\"2\" style=\"-webkit-tap-highlight-color: rgba(0, 0, 0, 0);\"/><path d=\"M233.21875,884.1875L233.21875,916.953125\" fill=\"none\" stroke=\"#000000\" stroke-dasharray=\"0\" stroke-width=\"2\" style=\"-webkit-tap-highlight-color: rgba(0, 0, 0, 0);\"/><path d=\"M233.21875,916.953125C233.21875,916.953125,224.1378631591797,916.953125,218.2140033841133,916.953125\" fill=\"none\" marker-end=\"url(#raphael-marker-endblock55)\" stroke=\"#000000\" stroke-dasharray=\"0\" stroke-width=\"2\" style=\"-webkit-tap-highlight-color: rgba(0, 0, 0, 0);\"/><rect fill=\"#ffffff\" height=\"17.765625\" r=\"0\" rx=\"0\" ry=\"0\" stroke=\"none\" style=\"-webkit-tap-highlight-color: rgba(0, 0, 0, 0);\" width=\"38.390625\" x=\"875.46875\" y=\"926.953125\"/><text fill=\"#000000\" font=\"10px &quot;Arial&quot;\" font-family=\"Andale Mono, monospace\" font-size=\"16px\" stroke=\"none\" style=\"-webkit-tap-highlight-color: rgba(0, 0, 0, 0); text-anchor: middle; font-style: normal; font-variant: normal; font-weight: normal; font-stretch: normal; font-size: 16px; line-height: normal; font-family: &quot;Andale Mono&quot;, monospace;\" text-anchor=\"middle\" x=\"894.671875\" y=\"935.8359375\"><tspan dy=\"5.5625\" style=\"-webkit-tap-highlight-color: rgba(0, 0, 0, 0);\">x=42</tspan></text><path d=\"M850.484375,921.953125L870.484375,921.953125\" fill=\"none\" stroke=\"#000000\" stroke-dasharray=\"0\" stroke-width=\"2\" style=\"-webkit-tap-highlight-color: rgba(0, 0, 0, 0);\"/><path d=\"M870.484375,921.953125L870.484375,954.71875\" fill=\"none\" stroke=\"#000000\" stroke-dasharray=\"0\" stroke-width=\"2\" style=\"-webkit-tap-highlight-color: rgba(0, 0, 0, 0);\"/><path d=\"M870.484375,954.71875C870.484375,954.71875,861.4034881591797,954.71875,855.4796283841133,954.71875\" fill=\"none\" marker-end=\"url(#raphael-marker-endblock55)\" stroke=\"#000000\" stroke-dasharray=\"0\" stroke-width=\"2\" style=\"-webkit-tap-highlight-color: rgba(0, 0, 0, 0);\"/><rect fill=\"#ffffff\" height=\"17.765625\" r=\"0\" rx=\"0\" ry=\"0\" stroke=\"none\" style=\"-webkit-tap-highlight-color: rgba(0, 0, 0, 0);\" width=\"201.625\" x=\"595.25\" y=\"960.828125\"/><text fill=\"#000000\" font=\"10px &quot;Arial&quot;\" font-family=\"Andale Mono, monospace\" font-size=\"16px\" stroke=\"none\" style=\"-webkit-tap-highlight-color: rgba(0, 0, 0, 0); text-anchor: middle; font-style: normal; font-variant: normal; font-weight: normal; font-stretch: normal; font-size: 16px; line-height: normal; font-family: &quot;Andale Mono&quot;, monospace;\" text-anchor=\"middle\" x=\"696.0703125\" y=\"969.71875\"><tspan dy=\"5.5546875\" style=\"-webkit-tap-highlight-color: rgba(0, 0, 0, 0);\">OK, execution count=1</tspan></text><path d=\"M850.484375,982.484375C850.484375,982.484375,586.4943245528266,982.484375,546.6637944804747,982.484375\" fill=\"none\" marker-end=\"url(#raphael-marker-endblock55)\" stroke=\"#000000\" stroke-dasharray=\"0\" stroke-width=\"2\" style=\"-webkit-tap-highlight-color: rgba(0, 0, 0, 0);\"/><rect fill=\"#ffffff\" height=\"17.765625\" r=\"0\" rx=\"0\" ry=\"0\" stroke=\"none\" style=\"-webkit-tap-highlight-color: rgba(0, 0, 0, 0);\" width=\"201.625\" x=\"276.609375\" y=\"998.59375\"/><text fill=\"#000000\" font=\"10px &quot;Arial&quot;\" font-family=\"Andale Mono, monospace\" font-size=\"16px\" stroke=\"none\" style=\"-webkit-tap-highlight-color: rgba(0, 0, 0, 0); text-anchor: middle; font-style: normal; font-variant: normal; font-weight: normal; font-stretch: normal; font-size: 16px; line-height: normal; font-family: &quot;Andale Mono&quot;, monospace;\" text-anchor=\"middle\" x=\"377.4375\" y=\"1007.484375\"><tspan dy=\"5.5546875\" style=\"-webkit-tap-highlight-color: rgba(0, 0, 0, 0);\">OK, execution count=1</tspan></text><path d=\"M541.65625,1020.25C541.65625,1020.25,259.4191922582686,1020.25,218.2136843164826,1020.25\" fill=\"none\" marker-end=\"url(#raphael-marker-endblock55)\" stroke=\"#000000\" stroke-dasharray=\"0\" stroke-width=\"2\" style=\"-webkit-tap-highlight-color: rgba(0, 0, 0, 0);\"/><rect fill=\"#ffffff\" height=\"17.765625\" r=\"0\" rx=\"0\" ry=\"0\" stroke=\"none\" style=\"-webkit-tap-highlight-color: rgba(0, 0, 0, 0);\" width=\"48\" x=\"238.203125\" y=\"1040.25\"/><text fill=\"#000000\" font=\"10px &quot;Arial&quot;\" font-family=\"Andale Mono, monospace\" font-size=\"16px\" stroke=\"none\" style=\"-webkit-tap-highlight-color: rgba(0, 0, 0, 0); text-anchor: middle; font-style: normal; font-variant: normal; font-weight: normal; font-stretch: normal; font-size: 16px; line-height: normal; font-family: &quot;Andale Mono&quot;, monospace;\" text-anchor=\"middle\" x=\"262.21875\" y=\"1049.1328125\"><tspan dy=\"5.5625\" style=\"-webkit-tap-highlight-color: rgba(0, 0, 0, 0);\">In[1]</tspan></text><path d=\"M213.21875,1035.25L233.21875,1035.25\" fill=\"none\" stroke=\"#000000\" stroke-dasharray=\"0\" stroke-width=\"2\" style=\"-webkit-tap-highlight-color: rgba(0, 0, 0, 0);\"/><path d=\"M233.21875,1035.25L233.21875,1068.015625\" fill=\"none\" stroke=\"#000000\" stroke-dasharray=\"0\" stroke-width=\"2\" style=\"-webkit-tap-highlight-color: rgba(0, 0, 0, 0);\"/><path d=\"M233.21875,1068.015625C233.21875,1068.015625,224.1378631591797,1068.015625,218.2140033841133,1068.015625\" fill=\"none\" marker-end=\"url(#raphael-marker-endblock55)\" stroke=\"#000000\" stroke-dasharray=\"0\" stroke-width=\"2\" style=\"-webkit-tap-highlight-color: rgba(0, 0, 0, 0);\"/></svg>"
      ],
      "text/plain": [
       "<IPython.core.display.SVG object>"
      ]
     },
     "metadata": {},
     "output_type": "display_data"
    }
   ],
   "source": [
    "%%svg\n",
    "<svg height=\"1154.96875\" version=\"1.1\" width=\"997.671875\" xmlns=\"http://www.w3.org/2000/svg\" style=\"overflow: hidden; position: relative; left: -0.986111px; top: -0.298613px;\"><desc style=\"-webkit-tap-highlight-color: rgba(0, 0, 0, 0);\">Created with RaphaÃ«l 2.1.2</desc><defs style=\"-webkit-tap-highlight-color: rgba(0, 0, 0, 0);\"><path stroke-linecap=\"round\" d=\"M5,0 0,2.5 5,5z\" id=\"raphael-marker-block\" style=\"-webkit-tap-highlight-color: rgba(0, 0, 0, 0);\"></path><marker id=\"raphael-marker-endblock55\" markerHeight=\"5\" markerWidth=\"5\" orient=\"auto\" refX=\"2.5\" refY=\"2.5\" style=\"-webkit-tap-highlight-color: rgba(0, 0, 0, 0);\"><use xmlns:xlink=\"http://www.w3.org/1999/xlink\" xlink:href=\"#raphael-marker-block\" transform=\"rotate(180 2.5 2.5) scale(1,1)\" stroke-width=\"1.0000\" fill=\"#000\" stroke=\"none\" style=\"-webkit-tap-highlight-color: rgba(0, 0, 0, 0);\"></use></marker></defs><rect x=\"10\" y=\"10\" width=\"528.46875\" height=\"27.765625\" r=\"0\" rx=\"0\" ry=\"0\" fill=\"none\" stroke=\"#000000\" stroke-width=\"2\" style=\"-webkit-tap-highlight-color: rgba(0, 0, 0, 0);\"></rect><rect x=\"14.984375\" y=\"15\" width=\"518.46875\" height=\"17.765625\" r=\"0\" rx=\"0\" ry=\"0\" fill=\"#ffffff\" stroke=\"none\" style=\"-webkit-tap-highlight-color: rgba(0, 0, 0, 0);\"></rect><text x=\"274.234375\" y=\"23.8828125\" text-anchor=\"middle\" font=\"10px &quot;Arial&quot;\" stroke=\"none\" fill=\"#000000\" style=\"-webkit-tap-highlight-color: rgba(0, 0, 0, 0); text-anchor: middle; font-style: normal; font-variant: normal; font-weight: normal; font-stretch: normal; font-size: 16px; line-height: normal; font-family: &quot;Andale Mono&quot;, monospace;\" font-size=\"16px\" font-family=\"Andale Mono, monospace\"><tspan dy=\"5.5625\" style=\"-webkit-tap-highlight-color: rgba(0, 0, 0, 0);\">User browses to localhost:8888/notebooks/example.ipynb</tspan></text><rect x=\"169.6171875\" y=\"47.765625\" width=\"87.203125\" height=\"56.953125\" r=\"0\" rx=\"0\" ry=\"0\" fill=\"none\" stroke=\"#000000\" stroke-width=\"2\" style=\"-webkit-tap-highlight-color: rgba(0, 0, 0, 0);\"></rect><rect x=\"179.609375\" y=\"67.359375\" width=\"67.203125\" height=\"17.765625\" r=\"0\" rx=\"0\" ry=\"0\" fill=\"#ffffff\" stroke=\"none\" style=\"-webkit-tap-highlight-color: rgba(0, 0, 0, 0);\"></rect><text x=\"213.21875\" y=\"76.2421875\" text-anchor=\"middle\" font=\"10px &quot;Arial&quot;\" stroke=\"none\" fill=\"#000000\" style=\"-webkit-tap-highlight-color: rgba(0, 0, 0, 0); text-anchor: middle; font-style: normal; font-variant: normal; font-weight: normal; font-stretch: normal; font-size: 16px; line-height: normal; font-family: &quot;Andale Mono&quot;, monospace;\" font-size=\"16px\" font-family=\"Andale Mono, monospace\"><tspan dy=\"5.5625\" style=\"-webkit-tap-highlight-color: rgba(0, 0, 0, 0);\">browser</tspan></text><rect x=\"169.6171875\" y=\"1078.015625\" width=\"87.203125\" height=\"56.953125\" r=\"0\" rx=\"0\" ry=\"0\" fill=\"none\" stroke=\"#000000\" stroke-width=\"2\" style=\"-webkit-tap-highlight-color: rgba(0, 0, 0, 0);\"></rect><rect x=\"179.609375\" y=\"1097.609375\" width=\"67.203125\" height=\"17.765625\" r=\"0\" rx=\"0\" ry=\"0\" fill=\"#ffffff\" stroke=\"none\" style=\"-webkit-tap-highlight-color: rgba(0, 0, 0, 0);\"></rect><text x=\"213.21875\" y=\"1106.4921875\" text-anchor=\"middle\" font=\"10px &quot;Arial&quot;\" stroke=\"none\" fill=\"#000000\" style=\"-webkit-tap-highlight-color: rgba(0, 0, 0, 0); text-anchor: middle; font-style: normal; font-variant: normal; font-weight: normal; font-stretch: normal; font-size: 16px; line-height: normal; font-family: &quot;Andale Mono&quot;, monospace;\" font-size=\"16px\" font-family=\"Andale Mono, monospace\"><tspan dy=\"5.5625\" style=\"-webkit-tap-highlight-color: rgba(0, 0, 0, 0);\">browser</tspan></text><path fill=\"none\" stroke=\"#000000\" d=\"M213.21875,104.71875L213.21875,1078.015625\" stroke-width=\"2\" style=\"-webkit-tap-highlight-color: rgba(0, 0, 0, 0);\"></path><rect x=\"493.2578125\" y=\"47.765625\" width=\"96.796875\" height=\"56.953125\" r=\"0\" rx=\"0\" ry=\"0\" fill=\"none\" stroke=\"#000000\" stroke-width=\"2\" style=\"-webkit-tap-highlight-color: rgba(0, 0, 0, 0);\"></rect><rect x=\"503.25\" y=\"57.765625\" width=\"76.796875\" height=\"36.953125\" r=\"0\" rx=\"0\" ry=\"0\" fill=\"#ffffff\" stroke=\"none\" style=\"-webkit-tap-highlight-color: rgba(0, 0, 0, 0);\"></rect><text x=\"541.65625\" y=\"76.2421875\" text-anchor=\"middle\" font=\"10px &quot;Arial&quot;\" stroke=\"none\" fill=\"#000000\" style=\"-webkit-tap-highlight-color: rgba(0, 0, 0, 0); text-anchor: middle; font-style: normal; font-variant: normal; font-weight: normal; font-stretch: normal; font-size: 16px; line-height: normal; font-family: &quot;Andale Mono&quot;, monospace;\" font-size=\"16px\" font-family=\"Andale Mono, monospace\"><tspan dy=\"-4.0390625\" style=\"-webkit-tap-highlight-color: rgba(0, 0, 0, 0);\">notebook</tspan><tspan dy=\"19.2\" x=\"541.65625\" style=\"-webkit-tap-highlight-color: rgba(0, 0, 0, 0);\">server</tspan></text><rect x=\"493.2578125\" y=\"1078.015625\" width=\"96.796875\" height=\"56.953125\" r=\"0\" rx=\"0\" ry=\"0\" fill=\"none\" stroke=\"#000000\" stroke-width=\"2\" style=\"-webkit-tap-highlight-color: rgba(0, 0, 0, 0);\"></rect><rect x=\"503.25\" y=\"1088.015625\" width=\"76.796875\" height=\"36.953125\" r=\"0\" rx=\"0\" ry=\"0\" fill=\"#ffffff\" stroke=\"none\" style=\"-webkit-tap-highlight-color: rgba(0, 0, 0, 0);\"></rect><text x=\"541.65625\" y=\"1106.4921875\" text-anchor=\"middle\" font=\"10px &quot;Arial&quot;\" stroke=\"none\" fill=\"#000000\" style=\"-webkit-tap-highlight-color: rgba(0, 0, 0, 0); text-anchor: middle; font-style: normal; font-variant: normal; font-weight: normal; font-stretch: normal; font-size: 16px; line-height: normal; font-family: &quot;Andale Mono&quot;, monospace;\" font-size=\"16px\" font-family=\"Andale Mono, monospace\"><tspan dy=\"-4.0390625\" style=\"-webkit-tap-highlight-color: rgba(0, 0, 0, 0);\">notebook</tspan><tspan dy=\"19.2\" x=\"541.65625\" style=\"-webkit-tap-highlight-color: rgba(0, 0, 0, 0);\">server</tspan></text><path fill=\"none\" stroke=\"#000000\" d=\"M541.65625,104.71875L541.65625,1078.015625\" stroke-width=\"2\" style=\"-webkit-tap-highlight-color: rgba(0, 0, 0, 0);\"></path><rect x=\"811.6875\" y=\"47.765625\" width=\"77.59375\" height=\"56.953125\" r=\"0\" rx=\"0\" ry=\"0\" fill=\"none\" stroke=\"#000000\" stroke-width=\"2\" style=\"-webkit-tap-highlight-color: rgba(0, 0, 0, 0);\"></rect><rect x=\"821.671875\" y=\"67.359375\" width=\"57.59375\" height=\"17.765625\" r=\"0\" rx=\"0\" ry=\"0\" fill=\"#ffffff\" stroke=\"none\" style=\"-webkit-tap-highlight-color: rgba(0, 0, 0, 0);\"></rect><text x=\"850.484375\" y=\"76.2421875\" text-anchor=\"middle\" font=\"10px &quot;Arial&quot;\" stroke=\"none\" fill=\"#000000\" style=\"-webkit-tap-highlight-color: rgba(0, 0, 0, 0); text-anchor: middle; font-style: normal; font-variant: normal; font-weight: normal; font-stretch: normal; font-size: 16px; line-height: normal; font-family: &quot;Andale Mono&quot;, monospace;\" font-size=\"16px\" font-family=\"Andale Mono, monospace\"><tspan dy=\"5.5625\" style=\"-webkit-tap-highlight-color: rgba(0, 0, 0, 0);\">kernel</tspan></text><rect x=\"811.6875\" y=\"1078.015625\" width=\"77.59375\" height=\"56.953125\" r=\"0\" rx=\"0\" ry=\"0\" fill=\"none\" stroke=\"#000000\" stroke-width=\"2\" style=\"-webkit-tap-highlight-color: rgba(0, 0, 0, 0);\"></rect><rect x=\"821.671875\" y=\"1097.609375\" width=\"57.59375\" height=\"17.765625\" r=\"0\" rx=\"0\" ry=\"0\" fill=\"#ffffff\" stroke=\"none\" style=\"-webkit-tap-highlight-color: rgba(0, 0, 0, 0);\"></rect><text x=\"850.484375\" y=\"1106.4921875\" text-anchor=\"middle\" font=\"10px &quot;Arial&quot;\" stroke=\"none\" fill=\"#000000\" style=\"-webkit-tap-highlight-color: rgba(0, 0, 0, 0); text-anchor: middle; font-style: normal; font-variant: normal; font-weight: normal; font-stretch: normal; font-size: 16px; line-height: normal; font-family: &quot;Andale Mono&quot;, monospace;\" font-size=\"16px\" font-family=\"Andale Mono, monospace\"><tspan dy=\"5.5625\" style=\"-webkit-tap-highlight-color: rgba(0, 0, 0, 0);\">kernel</tspan></text><path fill=\"none\" stroke=\"#000000\" d=\"M850.484375,104.71875L850.484375,1078.015625\" stroke-width=\"2\" style=\"-webkit-tap-highlight-color: rgba(0, 0, 0, 0);\"></path><rect x=\"566.640625\" y=\"124.71875\" width=\"268.828125\" height=\"17.765625\" r=\"0\" rx=\"0\" ry=\"0\" fill=\"#ffffff\" stroke=\"none\" style=\"-webkit-tap-highlight-color: rgba(0, 0, 0, 0);\"></rect><text x=\"701.0625\" y=\"133.6015625\" text-anchor=\"middle\" font=\"10px &quot;Arial&quot;\" stroke=\"none\" fill=\"#000000\" style=\"-webkit-tap-highlight-color: rgba(0, 0, 0, 0); text-anchor: middle; font-style: normal; font-variant: normal; font-weight: normal; font-stretch: normal; font-size: 16px; line-height: normal; font-family: &quot;Andale Mono&quot;, monospace;\" font-size=\"16px\" font-family=\"Andale Mono, monospace\"><tspan dy=\"5.5625\" style=\"-webkit-tap-highlight-color: rgba(0, 0, 0, 0);\">grabs kernelspec from .ipynb</tspan></text><path fill=\"none\" stroke=\"#000000\" d=\"M541.65625,119.71875L561.65625,119.71875\" stroke-width=\"2\" stroke-dasharray=\"0\" style=\"-webkit-tap-highlight-color: rgba(0, 0, 0, 0);\"></path><path fill=\"none\" stroke=\"#000000\" d=\"M561.65625,119.71875L561.65625,152.484375\" stroke-width=\"2\" stroke-dasharray=\"0\" style=\"-webkit-tap-highlight-color: rgba(0, 0, 0, 0);\"></path><path fill=\"none\" stroke=\"#000000\" d=\"M561.65625,152.484375C561.65625,152.484375,552.5753631591797,152.484375,546.6515033841133,152.484375\" stroke-width=\"2\" stroke-dasharray=\"0\" marker-end=\"url(#raphael-marker-endblock55)\" style=\"-webkit-tap-highlight-color: rgba(0, 0, 0, 0);\"></path><rect x=\"600.046875\" y=\"158.59375\" width=\"192.015625\" height=\"17.765625\" r=\"0\" rx=\"0\" ry=\"0\" fill=\"#ffffff\" stroke=\"none\" style=\"-webkit-tap-highlight-color: rgba(0, 0, 0, 0);\"></rect><text x=\"696.0703125\" y=\"167.484375\" text-anchor=\"middle\" font=\"10px &quot;Arial&quot;\" stroke=\"none\" fill=\"#000000\" style=\"-webkit-tap-highlight-color: rgba(0, 0, 0, 0); text-anchor: middle; font-style: normal; font-variant: normal; font-weight: normal; font-stretch: normal; font-size: 16px; line-height: normal; font-family: &quot;Andale Mono&quot;, monospace;\" font-size=\"16px\" font-family=\"Andale Mono, monospace\"><tspan dy=\"5.5546875\" style=\"-webkit-tap-highlight-color: rgba(0, 0, 0, 0);\">starts up the kernel</tspan></text><path fill=\"none\" stroke=\"#000000\" d=\"M541.65625,180.25C541.65625,180.25,805.6463004471734,180.25,845.4768305195253,180.25\" stroke-width=\"2\" marker-end=\"url(#raphael-marker-endblock55)\" stroke-dasharray=\"0\" style=\"-webkit-tap-highlight-color: rgba(0, 0, 0, 0);\"></path><rect x=\"561.65625\" y=\"200.25\" width=\"250.03125\" height=\"27.765625\" r=\"0\" rx=\"0\" ry=\"0\" fill=\"none\" stroke=\"#000000\" stroke-width=\"2\" style=\"-webkit-tap-highlight-color: rgba(0, 0, 0, 0);\"></rect><rect x=\"566.640625\" y=\"205.25\" width=\"240.03125\" height=\"17.765625\" r=\"0\" rx=\"0\" ry=\"0\" fill=\"#ffffff\" stroke=\"none\" style=\"-webkit-tap-highlight-color: rgba(0, 0, 0, 0);\"></rect><text x=\"686.671875\" y=\"214.1328125\" text-anchor=\"middle\" font=\"10px &quot;Arial&quot;\" stroke=\"none\" fill=\"#000000\" style=\"-webkit-tap-highlight-color: rgba(0, 0, 0, 0); text-anchor: middle; font-style: normal; font-variant: normal; font-weight: normal; font-stretch: normal; font-size: 16px; line-height: normal; font-family: &quot;Andale Mono&quot;, monospace;\" font-size=\"16px\" font-family=\"Andale Mono, monospace\"><tspan dy=\"5.5625\" style=\"-webkit-tap-highlight-color: rgba(0, 0, 0, 0);\">ZeroMQ connection started</tspan></text><rect x=\"247.8125\" y=\"234.53125\" width=\"259.234375\" height=\"36.96875\" r=\"0\" rx=\"0\" ry=\"0\" fill=\"#ffffff\" stroke=\"none\" style=\"-webkit-tap-highlight-color: rgba(0, 0, 0, 0);\"></rect><text x=\"377.4375\" y=\"253.015625\" text-anchor=\"middle\" font=\"10px &quot;Arial&quot;\" stroke=\"none\" fill=\"#000000\" style=\"-webkit-tap-highlight-color: rgba(0, 0, 0, 0); text-anchor: middle; font-style: normal; font-variant: normal; font-weight: normal; font-stretch: normal; font-size: 16px; line-height: normal; font-family: &quot;Andale Mono&quot;, monospace;\" font-size=\"16px\" font-family=\"Andale Mono, monospace\"><tspan dy=\"-4.0390625\" style=\"-webkit-tap-highlight-color: rgba(0, 0, 0, 0);\">fetches notebook file</tspan><tspan dy=\"19.2\" x=\"377.4375\" style=\"-webkit-tap-highlight-color: rgba(0, 0, 0, 0);\">/api/contents/example.ipynb</tspan></text><path fill=\"none\" stroke=\"#000000\" d=\"M213.21875,284.96875C213.21875,284.96875,495.4558077417314,284.96875,536.6613156835174,284.96875\" stroke-width=\"2\" marker-end=\"url(#raphael-marker-endblock55)\" stroke-dasharray=\"0\" style=\"-webkit-tap-highlight-color: rgba(0, 0, 0, 0);\"></path><rect x=\"0\" y=\"0\" width=\"0\" height=\"0\" r=\"0\" rx=\"0\" ry=\"0\" fill=\"#ffffff\" stroke=\"none\" style=\"-webkit-tap-highlight-color: rgba(0, 0, 0, 0);\"></rect><text x=\"377.4375\" y=\"309.96875\" text-anchor=\"middle\" font=\"10px &quot;Arial&quot;\" stroke=\"none\" fill=\"#000000\" style=\"-webkit-tap-highlight-color: rgba(0, 0, 0, 0); text-anchor: middle; font-style: normal; font-variant: normal; font-weight: normal; font-stretch: normal; font-size: 16px; line-height: normal; font-family: &quot;Andale Mono&quot;, monospace;\" font-size=\"16px\" font-family=\"Andale Mono, monospace\"><tspan dy=\"309.96875\" style=\"-webkit-tap-highlight-color: rgba(0, 0, 0, 0);\"></tspan></text><path fill=\"none\" stroke=\"#000000\" d=\"M541.65625,304.96875C541.65625,304.96875,259.4191922582686,304.96875,218.2136843164826,304.96875\" stroke-width=\"2\" marker-end=\"url(#raphael-marker-endblock55)\" stroke-dasharray=\"0\" style=\"-webkit-tap-highlight-color: rgba(0, 0, 0, 0);\"></path><rect x=\"238.203125\" y=\"324.96875\" width=\"268.828125\" height=\"36.953125\" r=\"0\" rx=\"0\" ry=\"0\" fill=\"#ffffff\" stroke=\"none\" style=\"-webkit-tap-highlight-color: rgba(0, 0, 0, 0);\"></rect><text x=\"372.625\" y=\"343.4453125\" text-anchor=\"middle\" font=\"10px &quot;Arial&quot;\" stroke=\"none\" fill=\"#000000\" style=\"-webkit-tap-highlight-color: rgba(0, 0, 0, 0); text-anchor: middle; font-style: normal; font-variant: normal; font-weight: normal; font-stretch: normal; font-size: 16px; line-height: normal; font-family: &quot;Andale Mono&quot;, monospace;\" font-size=\"16px\" font-family=\"Andale Mono, monospace\"><tspan dy=\"-4.0390625\" style=\"-webkit-tap-highlight-color: rgba(0, 0, 0, 0);\">parses .ipynb JSON structure</tspan><tspan dy=\"19.2\" x=\"372.625\" style=\"-webkit-tap-highlight-color: rgba(0, 0, 0, 0);\">creates JS representation</tspan></text><path fill=\"none\" stroke=\"#000000\" d=\"M213.21875,319.96875L233.21875,319.96875\" stroke-width=\"2\" stroke-dasharray=\"0\" style=\"-webkit-tap-highlight-color: rgba(0, 0, 0, 0);\"></path><path fill=\"none\" stroke=\"#000000\" d=\"M233.21875,319.96875L233.21875,371.921875\" stroke-width=\"2\" stroke-dasharray=\"0\" style=\"-webkit-tap-highlight-color: rgba(0, 0, 0, 0);\"></path><path fill=\"none\" stroke=\"#000000\" d=\"M233.21875,371.921875C233.21875,371.921875,224.1378631591797,371.921875,218.2140033841133,371.921875\" stroke-width=\"2\" stroke-dasharray=\"0\" marker-end=\"url(#raphael-marker-endblock55)\" style=\"-webkit-tap-highlight-color: rgba(0, 0, 0, 0);\"></path><rect x=\"20\" y=\"381.921875\" width=\"173.21875\" height=\"46.953125\" r=\"0\" rx=\"0\" ry=\"0\" fill=\"none\" stroke=\"#000000\" stroke-width=\"2\" style=\"-webkit-tap-highlight-color: rgba(0, 0, 0, 0);\"></rect><rect x=\"24.984375\" y=\"386.921875\" width=\"163.21875\" height=\"36.953125\" r=\"0\" rx=\"0\" ry=\"0\" fill=\"#ffffff\" stroke=\"none\" style=\"-webkit-tap-highlight-color: rgba(0, 0, 0, 0);\"></rect><text x=\"106.609375\" y=\"405.3984375\" text-anchor=\"middle\" font=\"10px &quot;Arial&quot;\" stroke=\"none\" fill=\"#000000\" style=\"-webkit-tap-highlight-color: rgba(0, 0, 0, 0); text-anchor: middle; font-style: normal; font-variant: normal; font-weight: normal; font-stretch: normal; font-size: 16px; line-height: normal; font-family: &quot;Andale Mono&quot;, monospace;\" font-size=\"16px\" font-family=\"Andale Mono, monospace\"><tspan dy=\"-4.0390625\" style=\"-webkit-tap-highlight-color: rgba(0, 0, 0, 0);\">example.ipynb </tspan><tspan dy=\"19.2\" x=\"106.609375\" style=\"-webkit-tap-highlight-color: rgba(0, 0, 0, 0);\"> contents rendered</tspan></text><rect x=\"276.609375\" y=\"435.390625\" width=\"201.625\" height=\"36.96875\" r=\"0\" rx=\"0\" ry=\"0\" fill=\"#ffffff\" stroke=\"none\" style=\"-webkit-tap-highlight-color: rgba(0, 0, 0, 0);\"></rect><text x=\"377.4375\" y=\"453.875\" text-anchor=\"middle\" font=\"10px &quot;Arial&quot;\" stroke=\"none\" fill=\"#000000\" style=\"-webkit-tap-highlight-color: rgba(0, 0, 0, 0); text-anchor: middle; font-style: normal; font-variant: normal; font-weight: normal; font-stretch: normal; font-size: 16px; line-height: normal; font-family: &quot;Andale Mono&quot;, monospace;\" font-size=\"16px\" font-family=\"Andale Mono, monospace\"><tspan dy=\"-4.0390625\" style=\"-webkit-tap-highlight-color: rgba(0, 0, 0, 0);\">fetches /api/sessions</tspan><tspan dy=\"19.2\" x=\"377.4375\" style=\"-webkit-tap-highlight-color: rgba(0, 0, 0, 0);\">to get websocket URL</tspan></text><path fill=\"none\" stroke=\"#000000\" d=\"M213.21875,485.828125C213.21875,485.828125,495.4558077417314,485.828125,536.6613156835174,485.828125\" stroke-width=\"2\" marker-end=\"url(#raphael-marker-endblock55)\" stroke-dasharray=\"0\" style=\"-webkit-tap-highlight-color: rgba(0, 0, 0, 0);\"></path><rect x=\"0\" y=\"0\" width=\"0\" height=\"0\" r=\"0\" rx=\"0\" ry=\"0\" fill=\"#ffffff\" stroke=\"none\" style=\"-webkit-tap-highlight-color: rgba(0, 0, 0, 0);\"></rect><text x=\"377.4375\" y=\"510.828125\" text-anchor=\"middle\" font=\"10px &quot;Arial&quot;\" stroke=\"none\" fill=\"#000000\" style=\"-webkit-tap-highlight-color: rgba(0, 0, 0, 0); text-anchor: middle; font-style: normal; font-variant: normal; font-weight: normal; font-stretch: normal; font-size: 16px; line-height: normal; font-family: &quot;Andale Mono&quot;, monospace;\" font-size=\"16px\" font-family=\"Andale Mono, monospace\"><tspan dy=\"510.828125\" style=\"-webkit-tap-highlight-color: rgba(0, 0, 0, 0);\"></tspan></text><path fill=\"none\" stroke=\"#000000\" d=\"M541.65625,505.828125C541.65625,505.828125,259.4191922582686,505.828125,218.2136843164826,505.828125\" stroke-width=\"2\" marker-end=\"url(#raphael-marker-endblock55)\" stroke-dasharray=\"0\" style=\"-webkit-tap-highlight-color: rgba(0, 0, 0, 0);\"></path><rect x=\"233.21875\" y=\"525.828125\" width=\"288.4375\" height=\"27.765625\" r=\"0\" rx=\"0\" ry=\"0\" fill=\"none\" stroke=\"#000000\" stroke-width=\"2\" style=\"-webkit-tap-highlight-color: rgba(0, 0, 0, 0);\"></rect><rect x=\"238.203125\" y=\"530.828125\" width=\"278.4375\" height=\"17.765625\" r=\"0\" rx=\"0\" ry=\"0\" fill=\"#ffffff\" stroke=\"none\" style=\"-webkit-tap-highlight-color: rgba(0, 0, 0, 0);\"></rect><text x=\"377.4375\" y=\"539.7109375\" text-anchor=\"middle\" font=\"10px &quot;Arial&quot;\" stroke=\"none\" fill=\"#000000\" style=\"-webkit-tap-highlight-color: rgba(0, 0, 0, 0); text-anchor: middle; font-style: normal; font-variant: normal; font-weight: normal; font-stretch: normal; font-size: 16px; line-height: normal; font-family: &quot;Andale Mono&quot;, monospace;\" font-size=\"16px\" font-family=\"Andale Mono, monospace\"><tspan dy=\"5.5625\" style=\"-webkit-tap-highlight-color: rgba(0, 0, 0, 0);\">websockets connection started</tspan></text><rect x=\"300.625\" y=\"560.109375\" width=\"153.609375\" height=\"36.96875\" r=\"0\" rx=\"0\" ry=\"0\" fill=\"#ffffff\" stroke=\"none\" style=\"-webkit-tap-highlight-color: rgba(0, 0, 0, 0);\"></rect><text x=\"377.4375\" y=\"578.59375\" text-anchor=\"middle\" font=\"10px &quot;Arial&quot;\" stroke=\"none\" fill=\"#000000\" style=\"-webkit-tap-highlight-color: rgba(0, 0, 0, 0); text-anchor: middle; font-style: normal; font-variant: normal; font-weight: normal; font-stretch: normal; font-size: 16px; line-height: normal; font-family: &quot;Andale Mono&quot;, monospace;\" font-size=\"16px\" font-family=\"Andale Mono, monospace\"><tspan dy=\"-4.0390625\" style=\"-webkit-tap-highlight-color: rgba(0, 0, 0, 0);\">Jupyter Protocol</tspan><tspan dy=\"19.2\" x=\"377.4375\" style=\"-webkit-tap-highlight-color: rgba(0, 0, 0, 0);\">over websockets</tspan></text><path fill=\"none\" stroke=\"#000000\" d=\"M541.65625,610.546875C541.65625,610.546875,259.4191922582686,610.546875,218.2136843164826,610.546875\" stroke-width=\"2\" marker-end=\"url(#raphael-marker-endblock55)\" stroke-dasharray=\"6,2\" style=\"-webkit-tap-highlight-color: rgba(0, 0, 0, 0);\"></path><rect x=\"0\" y=\"0\" width=\"0\" height=\"0\" r=\"0\" rx=\"0\" ry=\"0\" fill=\"#ffffff\" stroke=\"none\" style=\"-webkit-tap-highlight-color: rgba(0, 0, 0, 0);\"></rect><text x=\"377.4375\" y=\"635.546875\" text-anchor=\"middle\" font=\"10px &quot;Arial&quot;\" stroke=\"none\" fill=\"#000000\" style=\"-webkit-tap-highlight-color: rgba(0, 0, 0, 0); text-anchor: middle; font-style: normal; font-variant: normal; font-weight: normal; font-stretch: normal; font-size: 16px; line-height: normal; font-family: &quot;Andale Mono&quot;, monospace;\" font-size=\"16px\" font-family=\"Andale Mono, monospace\"><tspan dy=\"635.546875\" style=\"-webkit-tap-highlight-color: rgba(0, 0, 0, 0);\"></tspan></text><path fill=\"none\" stroke=\"#000000\" d=\"M213.21875,630.546875C213.21875,630.546875,495.4558077417314,630.546875,536.6613156835174,630.546875\" stroke-width=\"2\" marker-end=\"url(#raphael-marker-endblock55)\" stroke-dasharray=\"6,2\" style=\"-webkit-tap-highlight-color: rgba(0, 0, 0, 0);\"></path><rect x=\"619.25\" y=\"637.0625\" width=\"153.609375\" height=\"36.96875\" r=\"0\" rx=\"0\" ry=\"0\" fill=\"#ffffff\" stroke=\"none\" style=\"-webkit-tap-highlight-color: rgba(0, 0, 0, 0);\"></rect><text x=\"696.0703125\" y=\"655.546875\" text-anchor=\"middle\" font=\"10px &quot;Arial&quot;\" stroke=\"none\" fill=\"#000000\" style=\"-webkit-tap-highlight-color: rgba(0, 0, 0, 0); text-anchor: middle; font-style: normal; font-variant: normal; font-weight: normal; font-stretch: normal; font-size: 16px; line-height: normal; font-family: &quot;Andale Mono&quot;, monospace;\" font-size=\"16px\" font-family=\"Andale Mono, monospace\"><tspan dy=\"-4.0390625\" style=\"-webkit-tap-highlight-color: rgba(0, 0, 0, 0);\">Jupyter Protocol</tspan><tspan dy=\"19.2\" x=\"696.0703125\" style=\"-webkit-tap-highlight-color: rgba(0, 0, 0, 0);\"> over ZeroMQ</tspan></text><path fill=\"none\" stroke=\"#000000\" d=\"M541.65625,687.5C541.65625,687.5,805.6463004471734,687.5,845.4768305195253,687.5\" stroke-width=\"2\" marker-end=\"url(#raphael-marker-endblock55)\" stroke-dasharray=\"6,2\" style=\"-webkit-tap-highlight-color: rgba(0, 0, 0, 0);\"></path><rect x=\"0\" y=\"0\" width=\"0\" height=\"0\" r=\"0\" rx=\"0\" ry=\"0\" fill=\"#ffffff\" stroke=\"none\" style=\"-webkit-tap-highlight-color: rgba(0, 0, 0, 0);\"></rect><text x=\"696.0703125\" y=\"712.5\" text-anchor=\"middle\" font=\"10px &quot;Arial&quot;\" stroke=\"none\" fill=\"#000000\" style=\"-webkit-tap-highlight-color: rgba(0, 0, 0, 0); text-anchor: middle; font-style: normal; font-variant: normal; font-weight: normal; font-stretch: normal; font-size: 16px; line-height: normal; font-family: &quot;Andale Mono&quot;, monospace;\" font-size=\"16px\" font-family=\"Andale Mono, monospace\"><tspan dy=\"712.5\" style=\"-webkit-tap-highlight-color: rgba(0, 0, 0, 0);\"></tspan></text><path fill=\"none\" stroke=\"#000000\" d=\"M850.484375,707.5C850.484375,707.5,586.4943245528266,707.5,546.6637944804747,707.5\" stroke-width=\"2\" marker-end=\"url(#raphael-marker-endblock55)\" stroke-dasharray=\"6,2\" style=\"-webkit-tap-highlight-color: rgba(0, 0, 0, 0);\"></path><rect x=\"20\" y=\"727.5\" width=\"173.21875\" height=\"66.15625\" r=\"0\" rx=\"0\" ry=\"0\" fill=\"none\" stroke=\"#000000\" stroke-width=\"2\" style=\"-webkit-tap-highlight-color: rgba(0, 0, 0, 0);\"></rect><rect x=\"24.984375\" y=\"732.5\" width=\"163.21875\" height=\"56.15625\" r=\"0\" rx=\"0\" ry=\"0\" fill=\"#ffffff\" stroke=\"none\" style=\"-webkit-tap-highlight-color: rgba(0, 0, 0, 0);\"></rect><text x=\"106.609375\" y=\"760.578125\" text-anchor=\"middle\" font=\"10px &quot;Arial&quot;\" stroke=\"none\" fill=\"#000000\" style=\"-webkit-tap-highlight-color: rgba(0, 0, 0, 0); text-anchor: middle; font-style: normal; font-variant: normal; font-weight: normal; font-stretch: normal; font-size: 16px; line-height: normal; font-family: &quot;Andale Mono&quot;, monospace;\" font-size=\"16px\" font-family=\"Andale Mono, monospace\"><tspan dy=\"-13.640625\" style=\"-webkit-tap-highlight-color: rgba(0, 0, 0, 0);\">User types \"x=42\"</tspan><tspan dy=\"19.2\" x=\"106.609375\" style=\"-webkit-tap-highlight-color: rgba(0, 0, 0, 0);\">in a cell and</tspan><tspan dy=\"19.2\" x=\"106.609375\" style=\"-webkit-tap-highlight-color: rgba(0, 0, 0, 0);\">executes it</tspan></text><rect x=\"310.21875\" y=\"809.765625\" width=\"134.40625\" height=\"17.765625\" r=\"0\" rx=\"0\" ry=\"0\" fill=\"#ffffff\" stroke=\"none\" style=\"-webkit-tap-highlight-color: rgba(0, 0, 0, 0);\"></rect><text x=\"377.4375\" y=\"818.65625\" text-anchor=\"middle\" font=\"10px &quot;Arial&quot;\" stroke=\"none\" fill=\"#000000\" style=\"-webkit-tap-highlight-color: rgba(0, 0, 0, 0); text-anchor: middle; font-style: normal; font-variant: normal; font-weight: normal; font-stretch: normal; font-size: 16px; line-height: normal; font-family: &quot;Andale Mono&quot;, monospace;\" font-size=\"16px\" font-family=\"Andale Mono, monospace\"><tspan dy=\"5.5546875\" style=\"-webkit-tap-highlight-color: rgba(0, 0, 0, 0);\">Execute \"x=42\"</tspan></text><path fill=\"none\" stroke=\"#000000\" d=\"M213.21875,831.421875C213.21875,831.421875,495.4558077417314,831.421875,536.6613156835174,831.421875\" stroke-width=\"2\" marker-end=\"url(#raphael-marker-endblock55)\" stroke-dasharray=\"0\" style=\"-webkit-tap-highlight-color: rgba(0, 0, 0, 0);\"></path><rect x=\"628.859375\" y=\"847.53125\" width=\"134.40625\" height=\"17.765625\" r=\"0\" rx=\"0\" ry=\"0\" fill=\"#ffffff\" stroke=\"none\" style=\"-webkit-tap-highlight-color: rgba(0, 0, 0, 0);\"></rect><text x=\"696.0703125\" y=\"856.421875\" text-anchor=\"middle\" font=\"10px &quot;Arial&quot;\" stroke=\"none\" fill=\"#000000\" style=\"-webkit-tap-highlight-color: rgba(0, 0, 0, 0); text-anchor: middle; font-style: normal; font-variant: normal; font-weight: normal; font-stretch: normal; font-size: 16px; line-height: normal; font-family: &quot;Andale Mono&quot;, monospace;\" font-size=\"16px\" font-family=\"Andale Mono, monospace\"><tspan dy=\"5.5546875\" style=\"-webkit-tap-highlight-color: rgba(0, 0, 0, 0);\">Execute \"x=42\"</tspan></text><path fill=\"none\" stroke=\"#000000\" d=\"M541.65625,869.1875C541.65625,869.1875,805.6463004471734,869.1875,845.4768305195253,869.1875\" stroke-width=\"2\" marker-end=\"url(#raphael-marker-endblock55)\" stroke-dasharray=\"0\" style=\"-webkit-tap-highlight-color: rgba(0, 0, 0, 0);\"></path><rect x=\"238.203125\" y=\"889.1875\" width=\"48\" height=\"17.765625\" r=\"0\" rx=\"0\" ry=\"0\" fill=\"#ffffff\" stroke=\"none\" style=\"-webkit-tap-highlight-color: rgba(0, 0, 0, 0);\"></rect><text x=\"262.21875\" y=\"898.0703125\" text-anchor=\"middle\" font=\"10px &quot;Arial&quot;\" stroke=\"none\" fill=\"#000000\" style=\"-webkit-tap-highlight-color: rgba(0, 0, 0, 0); text-anchor: middle; font-style: normal; font-variant: normal; font-weight: normal; font-stretch: normal; font-size: 16px; line-height: normal; font-family: &quot;Andale Mono&quot;, monospace;\" font-size=\"16px\" font-family=\"Andale Mono, monospace\"><tspan dy=\"5.5625\" style=\"-webkit-tap-highlight-color: rgba(0, 0, 0, 0);\">In[*]</tspan></text><path fill=\"none\" stroke=\"#000000\" d=\"M213.21875,884.1875L233.21875,884.1875\" stroke-width=\"2\" stroke-dasharray=\"0\" style=\"-webkit-tap-highlight-color: rgba(0, 0, 0, 0);\"></path><path fill=\"none\" stroke=\"#000000\" d=\"M233.21875,884.1875L233.21875,916.953125\" stroke-width=\"2\" stroke-dasharray=\"0\" style=\"-webkit-tap-highlight-color: rgba(0, 0, 0, 0);\"></path><path fill=\"none\" stroke=\"#000000\" d=\"M233.21875,916.953125C233.21875,916.953125,224.1378631591797,916.953125,218.2140033841133,916.953125\" stroke-width=\"2\" stroke-dasharray=\"0\" marker-end=\"url(#raphael-marker-endblock55)\" style=\"-webkit-tap-highlight-color: rgba(0, 0, 0, 0);\"></path><rect x=\"875.46875\" y=\"926.953125\" width=\"38.390625\" height=\"17.765625\" r=\"0\" rx=\"0\" ry=\"0\" fill=\"#ffffff\" stroke=\"none\" style=\"-webkit-tap-highlight-color: rgba(0, 0, 0, 0);\"></rect><text x=\"894.671875\" y=\"935.8359375\" text-anchor=\"middle\" font=\"10px &quot;Arial&quot;\" stroke=\"none\" fill=\"#000000\" style=\"-webkit-tap-highlight-color: rgba(0, 0, 0, 0); text-anchor: middle; font-style: normal; font-variant: normal; font-weight: normal; font-stretch: normal; font-size: 16px; line-height: normal; font-family: &quot;Andale Mono&quot;, monospace;\" font-size=\"16px\" font-family=\"Andale Mono, monospace\"><tspan dy=\"5.5625\" style=\"-webkit-tap-highlight-color: rgba(0, 0, 0, 0);\">x=42</tspan></text><path fill=\"none\" stroke=\"#000000\" d=\"M850.484375,921.953125L870.484375,921.953125\" stroke-width=\"2\" stroke-dasharray=\"0\" style=\"-webkit-tap-highlight-color: rgba(0, 0, 0, 0);\"></path><path fill=\"none\" stroke=\"#000000\" d=\"M870.484375,921.953125L870.484375,954.71875\" stroke-width=\"2\" stroke-dasharray=\"0\" style=\"-webkit-tap-highlight-color: rgba(0, 0, 0, 0);\"></path><path fill=\"none\" stroke=\"#000000\" d=\"M870.484375,954.71875C870.484375,954.71875,861.4034881591797,954.71875,855.4796283841133,954.71875\" stroke-width=\"2\" stroke-dasharray=\"0\" marker-end=\"url(#raphael-marker-endblock55)\" style=\"-webkit-tap-highlight-color: rgba(0, 0, 0, 0);\"></path><rect x=\"595.25\" y=\"960.828125\" width=\"201.625\" height=\"17.765625\" r=\"0\" rx=\"0\" ry=\"0\" fill=\"#ffffff\" stroke=\"none\" style=\"-webkit-tap-highlight-color: rgba(0, 0, 0, 0);\"></rect><text x=\"696.0703125\" y=\"969.71875\" text-anchor=\"middle\" font=\"10px &quot;Arial&quot;\" stroke=\"none\" fill=\"#000000\" style=\"-webkit-tap-highlight-color: rgba(0, 0, 0, 0); text-anchor: middle; font-style: normal; font-variant: normal; font-weight: normal; font-stretch: normal; font-size: 16px; line-height: normal; font-family: &quot;Andale Mono&quot;, monospace;\" font-size=\"16px\" font-family=\"Andale Mono, monospace\"><tspan dy=\"5.5546875\" style=\"-webkit-tap-highlight-color: rgba(0, 0, 0, 0);\">OK, execution count=1</tspan></text><path fill=\"none\" stroke=\"#000000\" d=\"M850.484375,982.484375C850.484375,982.484375,586.4943245528266,982.484375,546.6637944804747,982.484375\" stroke-width=\"2\" marker-end=\"url(#raphael-marker-endblock55)\" stroke-dasharray=\"0\" style=\"-webkit-tap-highlight-color: rgba(0, 0, 0, 0);\"></path><rect x=\"276.609375\" y=\"998.59375\" width=\"201.625\" height=\"17.765625\" r=\"0\" rx=\"0\" ry=\"0\" fill=\"#ffffff\" stroke=\"none\" style=\"-webkit-tap-highlight-color: rgba(0, 0, 0, 0);\"></rect><text x=\"377.4375\" y=\"1007.484375\" text-anchor=\"middle\" font=\"10px &quot;Arial&quot;\" stroke=\"none\" fill=\"#000000\" style=\"-webkit-tap-highlight-color: rgba(0, 0, 0, 0); text-anchor: middle; font-style: normal; font-variant: normal; font-weight: normal; font-stretch: normal; font-size: 16px; line-height: normal; font-family: &quot;Andale Mono&quot;, monospace;\" font-size=\"16px\" font-family=\"Andale Mono, monospace\"><tspan dy=\"5.5546875\" style=\"-webkit-tap-highlight-color: rgba(0, 0, 0, 0);\">OK, execution count=1</tspan></text><path fill=\"none\" stroke=\"#000000\" d=\"M541.65625,1020.25C541.65625,1020.25,259.4191922582686,1020.25,218.2136843164826,1020.25\" stroke-width=\"2\" marker-end=\"url(#raphael-marker-endblock55)\" stroke-dasharray=\"0\" style=\"-webkit-tap-highlight-color: rgba(0, 0, 0, 0);\"></path><rect x=\"238.203125\" y=\"1040.25\" width=\"48\" height=\"17.765625\" r=\"0\" rx=\"0\" ry=\"0\" fill=\"#ffffff\" stroke=\"none\" style=\"-webkit-tap-highlight-color: rgba(0, 0, 0, 0);\"></rect><text x=\"262.21875\" y=\"1049.1328125\" text-anchor=\"middle\" font=\"10px &quot;Arial&quot;\" stroke=\"none\" fill=\"#000000\" style=\"-webkit-tap-highlight-color: rgba(0, 0, 0, 0); text-anchor: middle; font-style: normal; font-variant: normal; font-weight: normal; font-stretch: normal; font-size: 16px; line-height: normal; font-family: &quot;Andale Mono&quot;, monospace;\" font-size=\"16px\" font-family=\"Andale Mono, monospace\"><tspan dy=\"5.5625\" style=\"-webkit-tap-highlight-color: rgba(0, 0, 0, 0);\">In[1]</tspan></text><path fill=\"none\" stroke=\"#000000\" d=\"M213.21875,1035.25L233.21875,1035.25\" stroke-width=\"2\" stroke-dasharray=\"0\" style=\"-webkit-tap-highlight-color: rgba(0, 0, 0, 0);\"></path><path fill=\"none\" stroke=\"#000000\" d=\"M233.21875,1035.25L233.21875,1068.015625\" stroke-width=\"2\" stroke-dasharray=\"0\" style=\"-webkit-tap-highlight-color: rgba(0, 0, 0, 0);\"></path><path fill=\"none\" stroke=\"#000000\" d=\"M233.21875,1068.015625C233.21875,1068.015625,224.1378631591797,1068.015625,218.2140033841133,1068.015625\" stroke-width=\"2\" stroke-dasharray=\"0\" marker-end=\"url(#raphael-marker-endblock55)\" style=\"-webkit-tap-highlight-color: rgba(0, 0, 0, 0);\"></path></svg>"
   ]
  },
  {
   "cell_type": "markdown",
   "metadata": {},
   "source": [
    "<br><br><br><br>"
   ]
  },
  {
   "cell_type": "markdown",
   "metadata": {},
   "source": [
    "<br><br><br><br>"
   ]
  },
  {
   "cell_type": "markdown",
   "metadata": {},
   "source": [
    "# Demo time"
   ]
  },
  {
   "cell_type": "markdown",
   "metadata": {},
   "source": [
    "<br><br><br><br>"
   ]
  },
  {
   "cell_type": "markdown",
   "metadata": {},
   "source": [
    "<br><br><br><br>"
   ]
  },
  {
   "cell_type": "markdown",
   "metadata": {},
   "source": [
    "<br><br><br><br>"
   ]
  },
  {
   "cell_type": "markdown",
   "metadata": {},
   "source": [
    "# Anatomy of a Message\n",
    "\n",
    "<br><br><br><br>\n",
    "\n",
    "In brief, read [the messaging\n",
    "spec](https://jupyter-client.readthedocs.io/en/latest/messaging.html) for more\n",
    "details.\n",
    "\n",
    "Essential fields:\n",
    "\n",
    "    header:\n",
    "        msg_id:\n",
    "        msg_type: status, execute_request, execute_reply, error, object_info_request,\n",
    "        complete_request, complete_reply, history_request, ...\n",
    "\n",
    "    parent_header: (see above, for replies)\n",
    "\n",
    "    content: structure depends on message type\n",
    "\n",
    "        example: execute_request\n",
    "            - code (str)\n",
    "            - silent (bool)\n",
    "            - store_history (bool)\n",
    "\n",
    "        example: execute_reply\n",
    "            - status ('ok', 'error', or 'abort')\n",
    "            - execution_count (prompt numbers)"
   ]
  },
  {
   "cell_type": "markdown",
   "metadata": {},
   "source": [
    "Jupyter protocol over zermoq happens over multiple channels not just one.\n",
    "    - stdin\n",
    "    - Shell ( action requests: execution, object introspection, code completion )\n",
    "    - IOPub ( \"broadcast channel\" )"
   ]
  },
  {
   "cell_type": "markdown",
   "metadata": {},
   "source": [
    "# Demo time"
   ]
  },
  {
   "cell_type": "code",
   "execution_count": null,
   "metadata": {},
   "outputs": [],
   "source": [
    "%connect_info"
   ]
  },
  {
   "cell_type": "code",
   "execution_count": null,
   "metadata": {},
   "outputs": [],
   "source": []
  }
 ],
 "metadata": {
  "kernelspec": {
   "display_name": "Python 3 (and you should, too\\!)",
   "language": "python",
   "name": "vanilla"
  },
  "language_info": {
   "codemirror_mode": {
    "name": "ipython",
    "version": 3
   },
   "file_extension": ".py",
   "mimetype": "text/x-python",
   "name": "python",
   "nbconvert_exporter": "python",
   "pygments_lexer": "ipython3",
   "version": "3.6.1"
  }
 },
 "nbformat": 4,
 "nbformat_minor": 1
}
